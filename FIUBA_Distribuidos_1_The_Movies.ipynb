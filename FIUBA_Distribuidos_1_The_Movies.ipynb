{
  "cells": [
    {
      "cell_type": "code",
      "execution_count": null,
      "metadata": {
        "id": "STl_VLz-kXn_"
      },
      "outputs": [],
      "source": [
        "# IMPORTANT: RUN THIS CELL IN ORDER TO IMPORT YOUR KAGGLE DATA SOURCES,\n",
        "# THEN FEEL FREE TO DELETE THIS CELL.\n",
        "# NOTE: THIS NOTEBOOK ENVIRONMENT DIFFERS FROM KAGGLE'S PYTHON\n",
        "# ENVIRONMENT SO THERE MAY BE MISSING LIBRARIES USED BY YOUR\n",
        "# NOTEBOOK.\n",
        "# import kagglehub\n",
        "# rounakbanik_the_movies_dataset_path = kagglehub.dataset_download('rounakbanik/the-movies-dataset')\n",
        "\n",
        "# print('Data source import complete.')\n"
      ]
    },
    {
      "cell_type": "markdown",
      "metadata": {
        "id": "cWWhQbmLkXoB"
      },
      "source": [
        "# Data load, clean and format"
      ]
    },
    {
      "cell_type": "code",
      "execution_count": null,
      "metadata": {
        "id": "VM5s5oFukXoC",
        "trusted": true
      },
      "outputs": [],
      "source": [
        "import numpy as np # linear algebra\n",
        "import pandas as pd # data processing, CSV file I/O (e.g. pd.read_csv)\n",
        "import matplotlib.pyplot as plt\n",
        "import os\n",
        "%pip install langid\n",
        "import langid\n",
        "import time\n",
        "import ast\n",
        "import timeit\n",
        "\n",
        "%pip install transformers torch\n",
        "from transformers import pipeline\n",
        "\n",
        "pd.set_option('display.max_columns', None)\n",
        "pd.set_option('display.max_colwidth', 100)"
      ]
    },
    {
      "cell_type": "code",
      "execution_count": null,
      "metadata": {
        "id": "rNq_TCagkXoC",
        "trusted": true
      },
      "outputs": [],
      "source": [
        "import configparser\n",
        "config = configparser.ConfigParser()\n",
        "config_file = \"config.ini\"\n",
        "config.read(config_file)"
      ]
    },
    {
      "cell_type": "code",
      "execution_count": null,
      "metadata": {},
      "outputs": [],
      "source": [
        "\n",
        "movies_file = config[\"FILES\"][\"MOVIES_FILE\"]\n",
        "ratings_file = config[\"FILES\"][\"RATINGS_FILE\"]\n",
        "credits_file = config[\"FILES\"][\"CREDITS_FILE\"]\n",
        "\n",
        "movies_df = pd.read_csv(movies_file, low_memory=False)\n",
        "ratings_df = pd.read_csv(ratings_file)\n",
        "credits_df = pd.read_csv(credits_file)\n",
        "\n",
        "OUTPUT_FILE = \"output/output.txt\""
      ]
    },
    {
      "cell_type": "code",
      "execution_count": null,
      "metadata": {
        "id": "HDdWZ_IekXoD",
        "trusted": true
      },
      "outputs": [],
      "source": [
        "movies_df.shape"
      ]
    },
    {
      "cell_type": "code",
      "execution_count": null,
      "metadata": {
        "id": "hcHUnsbskXoD",
        "trusted": true
      },
      "outputs": [],
      "source": [
        "ratings_df.shape"
      ]
    },
    {
      "cell_type": "code",
      "execution_count": null,
      "metadata": {
        "id": "8fduri_JkXoD",
        "trusted": true
      },
      "outputs": [],
      "source": [
        "credits_df.shape"
      ]
    },
    {
      "cell_type": "code",
      "execution_count": null,
      "metadata": {
        "id": "v_kliOMFkXoD",
        "trusted": true
      },
      "outputs": [],
      "source": [
        "movies_df.dtypes"
      ]
    },
    {
      "cell_type": "code",
      "execution_count": null,
      "metadata": {
        "id": "PkQt-KtDkXoD",
        "trusted": true
      },
      "outputs": [],
      "source": [
        "ratings_df.dtypes"
      ]
    },
    {
      "cell_type": "code",
      "execution_count": null,
      "metadata": {
        "id": "M82PcqEvkXoE",
        "trusted": true
      },
      "outputs": [],
      "source": [
        "credits_df.dtypes"
      ]
    },
    {
      "cell_type": "code",
      "execution_count": null,
      "metadata": {
        "id": "TGYXpzk4kXoE",
        "trusted": true
      },
      "outputs": [],
      "source": [
        "movies_df.head()"
      ]
    },
    {
      "cell_type": "code",
      "execution_count": null,
      "metadata": {
        "id": "4sOGXEO2kXoE",
        "trusted": true
      },
      "outputs": [],
      "source": [
        "ratings_df.head()"
      ]
    },
    {
      "cell_type": "code",
      "execution_count": null,
      "metadata": {
        "id": "B5l3eXVykXoE",
        "trusted": true
      },
      "outputs": [],
      "source": [
        "credits_df.head()"
      ]
    },
    {
      "cell_type": "code",
      "execution_count": null,
      "metadata": {
        "id": "eJRpqrS4kXoE",
        "trusted": true
      },
      "outputs": [],
      "source": [
        "movies_df[\"id\"].nunique()"
      ]
    },
    {
      "cell_type": "code",
      "execution_count": null,
      "metadata": {
        "id": "GB7H1cSnkXoE",
        "trusted": true
      },
      "outputs": [],
      "source": [
        "ratings_df[\"movieId\"].nunique()"
      ]
    },
    {
      "cell_type": "code",
      "execution_count": null,
      "metadata": {
        "id": "bG48_JVNkXoE",
        "trusted": true
      },
      "outputs": [],
      "source": [
        "credits_df[\"id\"].nunique()"
      ]
    },
    {
      "cell_type": "markdown",
      "metadata": {
        "id": "el36QFK5kXoE"
      },
      "source": [
        "## Dataframes Cleaning"
      ]
    },
    {
      "cell_type": "code",
      "execution_count": null,
      "metadata": {
        "id": "lfQJWvMmkXoE",
        "trusted": true
      },
      "outputs": [],
      "source": [
        "movies_df_columns = [\"id\", \"title\", \"genres\", \"release_date\", \"overview\", \"production_countries\", \"spoken_languages\", \"budget\", \"revenue\"]\n",
        "ratings_df_columns = [\"movieId\", \"rating\", \"timestamp\"]\n",
        "credits_df_columns = [\"id\", \"cast\"]"
      ]
    },
    {
      "cell_type": "code",
      "execution_count": null,
      "metadata": {
        "id": "EzVcvwpRkXoF",
        "trusted": true
      },
      "outputs": [],
      "source": [
        "# Discard unuseful columns\n",
        "movies_df_cleaned = movies_df.dropna(subset=movies_df_columns)[movies_df_columns].copy()\n",
        "ratings_df_cleaned = ratings_df.dropna(subset=ratings_df_columns)[ratings_df_columns].copy()\n",
        "credits_df_cleaned = credits_df.dropna(subset=credits_df_columns)[credits_df_columns].copy()"
      ]
    },
    {
      "cell_type": "code",
      "execution_count": null,
      "metadata": {
        "id": "kC9ClEkPkXoF",
        "trusted": true
      },
      "outputs": [],
      "source": [
        "# Dates Formatting\n",
        "movies_df_cleaned['release_date'] = pd.to_datetime(movies_df_cleaned['release_date'], format='%Y-%m-%d', errors='coerce')\n",
        "ratings_df_cleaned['timestamp'] = pd.to_datetime(ratings_df_cleaned['timestamp'], unit='s')"
      ]
    },
    {
      "cell_type": "code",
      "execution_count": null,
      "metadata": {
        "id": "xYh2u66akXoF",
        "trusted": true
      },
      "outputs": [],
      "source": [
        "# Numbers Formatting\n",
        "movies_df_cleaned['budget'] = pd.to_numeric(movies_df_cleaned['budget'], errors='coerce')\n",
        "movies_df_cleaned['revenue'] = pd.to_numeric(movies_df_cleaned['revenue'], errors='coerce')"
      ]
    },
    {
      "cell_type": "code",
      "execution_count": null,
      "metadata": {
        "id": "lmXBhjGkkXoF",
        "trusted": true
      },
      "outputs": [],
      "source": [
        "# Replace json fields with string arrays\n",
        "def dictionary_to_list(dictionary_str):\n",
        "    try:\n",
        "        dictionary_list = ast.literal_eval(dictionary_str)\n",
        "        return [data['name'] for data in dictionary_list]\n",
        "    except (ValueError, SyntaxError):\n",
        "        return []\n",
        "\n",
        "movies_df_cleaned['genres'] = movies_df_cleaned['genres'].apply(dictionary_to_list)\n",
        "movies_df_cleaned['production_countries'] = movies_df_cleaned['production_countries'].apply(dictionary_to_list)\n",
        "movies_df_cleaned['spoken_languages'] = movies_df_cleaned['spoken_languages'].apply(dictionary_to_list)\n",
        "credits_df_cleaned['cast'] = credits_df_cleaned['cast'].apply(dictionary_to_list)"
      ]
    },
    {
      "cell_type": "code",
      "execution_count": null,
      "metadata": {
        "id": "xqavvACYkXoF",
        "trusted": true
      },
      "outputs": [],
      "source": [
        "movies_df_cleaned['genres'] = movies_df_cleaned['genres'].astype(str)\n",
        "movies_df_cleaned['production_countries'] = movies_df_cleaned['production_countries'].astype(str)\n",
        "movies_df_cleaned['spoken_languages'] = movies_df_cleaned['spoken_languages'].astype(str)"
      ]
    },
    {
      "cell_type": "code",
      "execution_count": null,
      "metadata": {
        "id": "y45RTm4pkXoF",
        "trusted": true
      },
      "outputs": [],
      "source": [
        "movies_df_cleaned.head()"
      ]
    },
    {
      "cell_type": "code",
      "execution_count": null,
      "metadata": {
        "id": "-7mNIPXokXoF",
        "trusted": true
      },
      "outputs": [],
      "source": [
        "ratings_df_cleaned.head()"
      ]
    },
    {
      "cell_type": "code",
      "execution_count": null,
      "metadata": {
        "id": "eMOO6TwzkXoF",
        "trusted": true
      },
      "outputs": [],
      "source": [
        "credits_df_cleaned.head()"
      ]
    },
    {
      "cell_type": "code",
      "execution_count": null,
      "metadata": {
        "id": "2UtrUThWkXoF",
        "trusted": true
      },
      "outputs": [],
      "source": [
        "movies_df_cleaned.dtypes"
      ]
    },
    {
      "cell_type": "code",
      "execution_count": null,
      "metadata": {
        "id": "YaQgRMDbkXoF",
        "trusted": true
      },
      "outputs": [],
      "source": [
        "ratings_df_cleaned.dtypes"
      ]
    },
    {
      "cell_type": "code",
      "execution_count": null,
      "metadata": {
        "id": "_Qf6EZbvkXoF",
        "trusted": true
      },
      "outputs": [],
      "source": [
        "credits_df_cleaned.dtypes"
      ]
    },
    {
      "cell_type": "markdown",
      "metadata": {
        "id": "F8-jpr9nkXoF"
      },
      "source": [
        "# Queries a Resolver"
      ]
    },
    {
      "cell_type": "markdown",
      "metadata": {
        "id": "VMMQi0SwkXoF"
      },
      "source": [
        "- Q1: Peliculas y sus géneros de los años 2000 con producción Argentina y Española.\n",
        "- Q2: Top 5 de países que más dinero han invertido en producciones sin colaborar con otros países.\n",
        "- Q3: Películas de Producción Argentina estrenadas a partir del 2000, con mayor y con menor promedio de rating.\n",
        "- Q4: Top 10 de actores con mayor participación en películas de producción Argentina con\n",
        "fecha de estreno posterior al 2000\n",
        "- Q5: Average de la tasa ingreso/presupuesto de peliculas con overview de sentimiento positivo vs. sentimiento negativo, para películas de habla inglesa con producción americana, estrenadas a partir del año 2000"
      ]
    },
    {
      "cell_type": "markdown",
      "metadata": {
        "id": "BfCkU3jDkXoF"
      },
      "source": [
        "### Q1:  Peliculas y sus géneros de los años 00' con producción Argentina y Española Q2:"
      ]
    },
    {
      "cell_type": "code",
      "execution_count": null,
      "metadata": {
        "id": "njsG3OzDkXoF",
        "trusted": true
      },
      "outputs": [],
      "source": [
        "movies_argentina_españa_00s_df = movies_df_cleaned[\n",
        "    (movies_df_cleaned['production_countries'].str.contains('Argentina', case=False, na=False)) &\n",
        "    (movies_df_cleaned['production_countries'].str.contains('Spain', case=False, na=False)) &\n",
        "    (movies_df_cleaned['release_date'].dt.year >= 2000) &\n",
        "    (movies_df_cleaned['release_date'].dt.year < 2010)\n",
        "]"
      ]
    },
    {
      "cell_type": "code",
      "execution_count": null,
      "metadata": {
        "id": "lsYcGjLHkXoF",
        "trusted": true
      },
      "outputs": [],
      "source": [
        "movies_argentina_españa_00s_df.shape\n"
      ]
    },
    {
      "cell_type": "code",
      "execution_count": null,
      "metadata": {
        "id": "4x-L4Yr9kXoG",
        "trusted": true
      },
      "outputs": [],
      "source": [
        "movies_argentina_españa_00s_df[[\"title\", \"genres\"]]\n",
        "\n",
        "with open(OUTPUT_FILE, \"w\") as f:\n",
        "    f.write(\"query 1\\n\")\n",
        "    for index, row in movies_argentina_españa_00s_df.iterrows():\n",
        "        title = row[\"title\"]\n",
        "        genres = row[\"genres\"]\n",
        "        f.write(f\"{title},{genres}\\n\")\n",
        "    f.write(\"\\n\")"
      ]
    },
    {
      "cell_type": "code",
      "execution_count": null,
      "metadata": {},
      "outputs": [],
      "source": [
        "movies_argentina_españa_00s_df[[\"title\", \"genres\"]]"
      ]
    },
    {
      "cell_type": "markdown",
      "metadata": {
        "id": "fQdiREU5kXoG"
      },
      "source": [
        "### Q2: Top 5 de países que más dinero han invertido en producciones sin colaborar con otros países."
      ]
    },
    {
      "cell_type": "code",
      "execution_count": null,
      "metadata": {
        "id": "q5Rbf7U8kXoG",
        "trusted": true
      },
      "outputs": [],
      "source": [
        "solo_country_df = movies_df_cleaned[movies_df_cleaned['production_countries'].apply(lambda x: len(eval(x)) == 1)]"
      ]
    },
    {
      "cell_type": "code",
      "execution_count": null,
      "metadata": {
        "id": "OlGPsXopkXoG",
        "trusted": true
      },
      "outputs": [],
      "source": [
        "solo_country_df.loc[:, 'country'] = solo_country_df['production_countries'].apply(lambda x: eval(x)[0])"
      ]
    },
    {
      "cell_type": "code",
      "execution_count": null,
      "metadata": {
        "id": "vyd0VnkykXoG",
        "trusted": true
      },
      "outputs": [],
      "source": [
        "investment_by_country = solo_country_df.groupby('country')['budget'].sum().sort_values(ascending=False)"
      ]
    },
    {
      "cell_type": "code",
      "execution_count": null,
      "metadata": {
        "id": "w1LqFvqYkXoK",
        "trusted": true
      },
      "outputs": [],
      "source": [
        "top_5_countries = investment_by_country.head(5).reset_index()\n",
        "\n",
        "print(top_5_countries)"
      ]
    },
    {
      "cell_type": "code",
      "execution_count": null,
      "metadata": {},
      "outputs": [],
      "source": [
        "with open(OUTPUT_FILE, \"a\") as f:\n",
        "    f.write(\"query 2\\n\")\n",
        "    for index, row in top_5_countries.iterrows():\n",
        "        country = row[\"country\"]\n",
        "        budget = row[\"budget\"]\n",
        "        f.write(f\"{country},{budget}\\n\")\n",
        "    f.write(\"\\n\")"
      ]
    },
    {
      "cell_type": "markdown",
      "metadata": {
        "id": "8c1ui09vkXoK"
      },
      "source": [
        "### Q3: Películas de Producción Argentina estrenadas a partir del 2000, con mayor y con menor promedio de rating."
      ]
    },
    {
      "cell_type": "code",
      "execution_count": null,
      "metadata": {
        "id": "ZGSwLshQkXoK",
        "trusted": true
      },
      "outputs": [],
      "source": [
        "movies_argentina_post_2000_df = movies_df_cleaned[\n",
        "    (movies_df_cleaned['production_countries'].str.contains('Argentina', case=False, na=False)) &\n",
        "    (movies_df_cleaned['release_date'].dt.year >= 2000)\n",
        "]"
      ]
    },
    {
      "cell_type": "code",
      "execution_count": null,
      "metadata": {
        "id": "cDQuXL5akXoK",
        "trusted": true
      },
      "outputs": [],
      "source": [
        "movies_argentina_post_2000_df = movies_argentina_post_2000_df.astype({'id': int})"
      ]
    },
    {
      "cell_type": "code",
      "execution_count": null,
      "metadata": {
        "id": "tKAnuxf3kXoK",
        "trusted": true
      },
      "outputs": [],
      "source": [
        "ranking_arg_post_2000_df = movies_argentina_post_2000_df[[\"id\", \"title\"]].merge(ratings_df_cleaned,\n",
        "                                                                                left_on=\"id\",\n",
        "                                                                                right_on=\"movieId\")\n",
        "mean_ranking_arg_post_2000_df = ranking_arg_post_2000_df.groupby([\"id\", \"title\"])['rating'].mean().reset_index()"
      ]
    },
    {
      "cell_type": "code",
      "execution_count": null,
      "metadata": {
        "id": "Xjdtq1IvkXoK",
        "trusted": true
      },
      "outputs": [],
      "source": [
        "#Max\n",
        "mean_ranking_arg_post_2000_df.iloc[mean_ranking_arg_post_2000_df['rating'].idxmax()]\n",
        "\n",
        "\n"
      ]
    },
    {
      "cell_type": "code",
      "execution_count": null,
      "metadata": {
        "id": "VbZtYPOjkXoK",
        "trusted": true
      },
      "outputs": [],
      "source": [
        "#Min\n",
        "mean_ranking_arg_post_2000_df.iloc[mean_ranking_arg_post_2000_df['rating'].idxmin()]"
      ]
    },
    {
      "cell_type": "code",
      "execution_count": null,
      "metadata": {},
      "outputs": [],
      "source": [
        "title_max = mean_ranking_arg_post_2000_df.iloc[mean_ranking_arg_post_2000_df['rating'].idxmax()][\"title\"]\n",
        "rating_max = mean_ranking_arg_post_2000_df.iloc[mean_ranking_arg_post_2000_df['rating'].idxmax()][\"rating\"]\n",
        "\n",
        "title_min = mean_ranking_arg_post_2000_df.iloc[mean_ranking_arg_post_2000_df['rating'].idxmin()][\"title\"]\n",
        "rating_min = mean_ranking_arg_post_2000_df.iloc[mean_ranking_arg_post_2000_df['rating'].idxmin()][\"rating\"]\n",
        "\n",
        "with open(OUTPUT_FILE, \"a\") as f:\n",
        "    f.write(\"query 3\\n\")\n",
        "    f.write(f\"max, {title_max},{rating_max}\\n\")\n",
        "    f.write(f\"min, {title_min},{rating_min}\\n\")\n",
        "    f.write(\"\\n\")"
      ]
    },
    {
      "cell_type": "markdown",
      "metadata": {
        "id": "kIimoyeokXoK"
      },
      "source": [
        "### Q4: Top 10 de actores con mayor participación en películas de producción Argentina posterior al 2000"
      ]
    },
    {
      "cell_type": "code",
      "execution_count": null,
      "metadata": {
        "id": "GZIdRFgDkXoK",
        "trusted": true
      },
      "outputs": [],
      "source": [
        "cast_arg_post_2000_df = movies_argentina_post_2000_df[[\"id\", \"title\"]].merge(credits_df_cleaned,\n",
        "                                                                                on=\"id\")\n",
        "cast_and_movie_arg_post_2000_df = cast_arg_post_2000_df.set_index(\"id\")[\"cast\"].apply(pd.Series).stack().reset_index(\"id\", name=\"name\")\n",
        "cast_per_movie_quantities = cast_and_movie_arg_post_2000_df.groupby([\"name\"]).count().reset_index().rename(columns={\"id\":\"count\"})\n",
        "cast_per_movie_quantities.nlargest(10, 'count')\n",
        "\n",
        "with open(OUTPUT_FILE, \"a\") as f:\n",
        "    f.write(\"query 4\\n\")\n",
        "    for index, row in cast_per_movie_quantities.nlargest(10, 'count').iterrows():\n",
        "        name = row[\"name\"]\n",
        "        count = row[\"count\"]\n",
        "        f.write(f\"{name},{count}\\n\")\n",
        "    f.write(\"\\n\")"
      ]
    },
    {
      "cell_type": "markdown",
      "metadata": {
        "id": "ViZ9pLUCkXoK"
      },
      "source": [
        "### Q5: Average de la tasa ingreso/presupuesto de peliculas con overview de sentimiento positivo vs. sentimiento negativo"
      ]
    },
    {
      "cell_type": "code",
      "execution_count": null,
      "metadata": {
        "id": "fFJyHeLOkXoK",
        "trusted": true
      },
      "outputs": [],
      "source": [
        "q5_input_df = movies_df_cleaned.copy()"
      ]
    },
    {
      "cell_type": "code",
      "execution_count": null,
      "metadata": {
        "id": "l6j1spNdkXoK",
        "trusted": true
      },
      "outputs": [],
      "source": [
        "# Nos quedamos con rows válidas\n",
        "q5_input_df = q5_input_df.loc[q5_input_df['budget'] != 0]\n",
        "q5_input_df = q5_input_df.loc[q5_input_df['revenue'] != 0]"
      ]
    },
    {
      "cell_type": "code",
      "execution_count": null,
      "metadata": {
        "id": "vrxewfCPkXoK",
        "trusted": true
      },
      "outputs": [],
      "source": [
        "q5_input_df.shape"
      ]
    },
    {
      "cell_type": "code",
      "execution_count": null,
      "metadata": {
        "id": "DQrZTWiEkXoK",
        "trusted": true
      },
      "outputs": [],
      "source": [
        "# Cargar modelo preentrenado para análisis de sentimiento\n",
        "sentiment_analyzer = pipeline('sentiment-analysis', model='distilbert-base-uncased-finetuned-sst-2-english')"
      ]
    },
    {
      "cell_type": "code",
      "execution_count": null,
      "metadata": {
        "id": "rg_51bN0kXoK",
        "trusted": true
      },
      "outputs": [],
      "source": [
        "start_time = time.time()\n",
        "q5_input_df['sentiment'] = q5_input_df['overview'].fillna('').apply(lambda x: sentiment_analyzer(x)[0]['label'])\n",
        "elapsed_time = time.time() - start_time\n",
        "print(f\"Execution time: {elapsed_time:.2f} seconds\")"
      ]
    },
    {
      "cell_type": "code",
      "execution_count": null,
      "metadata": {
        "id": "-bNQle0akXoL",
        "trusted": true
      },
      "outputs": [],
      "source": [
        "q5_input_df[\"rate_revenue_budget\"] = q5_input_df[\"revenue\"] / q5_input_df[\"budget\"]"
      ]
    },
    {
      "cell_type": "code",
      "execution_count": null,
      "metadata": {
        "id": "yr4L0hrkkXoL",
        "trusted": true
      },
      "outputs": [],
      "source": [
        "q5_input_df.sample(10)"
      ]
    },
    {
      "cell_type": "code",
      "execution_count": null,
      "metadata": {
        "id": "OGBBCPLvkXoL",
        "trusted": true
      },
      "outputs": [],
      "source": [
        "average_rate_by_sentiment = q5_input_df.groupby(\"sentiment\")[\"rate_revenue_budget\"].mean()\n",
        "print(average_rate_by_sentiment)"
      ]
    }
  ],
  "metadata": {
    "colab": {
      "name": "FIUBA - Distribuidos 1 - The Movies",
      "provenance": []
    },
    "kaggle": {
      "accelerator": "none",
      "dataSources": [
        {
          "datasetId": 3405,
          "sourceId": 6663,
          "sourceType": "datasetVersion"
        }
      ],
      "dockerImageVersionId": 30918,
      "isGpuEnabled": false,
      "isInternetEnabled": true,
      "language": "python",
      "sourceType": "notebook"
    },
    "kernelspec": {
      "display_name": "Python 3",
      "language": "python",
      "name": "python3"
    },
    "language_info": {
      "codemirror_mode": {
        "name": "ipython",
        "version": 3
      },
      "file_extension": ".py",
      "mimetype": "text/x-python",
      "name": "python",
      "nbconvert_exporter": "python",
      "pygments_lexer": "ipython3",
      "version": "3.13.0"
    }
  },
  "nbformat": 4,
  "nbformat_minor": 0
}
