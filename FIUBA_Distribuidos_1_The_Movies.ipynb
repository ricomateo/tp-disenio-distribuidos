{
  "cells": [
    {
      "cell_type": "code",
      "execution_count": null,
      "metadata": {
        "id": "STl_VLz-kXn_"
      },
      "outputs": [],
      "source": [
        "# IMPORTANT: RUN THIS CELL IN ORDER TO IMPORT YOUR KAGGLE DATA SOURCES,\n",
        "# THEN FEEL FREE TO DELETE THIS CELL.\n",
        "# NOTE: THIS NOTEBOOK ENVIRONMENT DIFFERS FROM KAGGLE'S PYTHON\n",
        "# ENVIRONMENT SO THERE MAY BE MISSING LIBRARIES USED BY YOUR\n",
        "# NOTEBOOK.\n",
        "# import kagglehub\n",
        "# rounakbanik_the_movies_dataset_path = kagglehub.dataset_download('rounakbanik/the-movies-dataset')\n",
        "\n",
        "# print('Data source import complete.')\n"
      ]
    },
    {
      "cell_type": "markdown",
      "metadata": {
        "id": "cWWhQbmLkXoB"
      },
      "source": [
        "# Data load, clean and format"
      ]
    },
    {
      "cell_type": "code",
      "execution_count": 41,
      "metadata": {
        "id": "VM5s5oFukXoC",
        "trusted": true
      },
      "outputs": [
        {
          "name": "stderr",
          "output_type": "stream",
          "text": [
            "huggingface/tokenizers: The current process just got forked, after parallelism has already been used. Disabling parallelism to avoid deadlocks...\n",
            "To disable this warning, you can either:\n",
            "\t- Avoid using `tokenizers` before the fork if possible\n",
            "\t- Explicitly set the environment variable TOKENIZERS_PARALLELISM=(true | false)\n"
          ]
        },
        {
          "name": "stdout",
          "output_type": "stream",
          "text": [
            "Defaulting to user installation because normal site-packages is not writeable\n",
            "Requirement already satisfied: langid in /Users/mateo/Library/Python/3.13/lib/python/site-packages (1.1.6)\n",
            "Requirement already satisfied: numpy in /Library/Frameworks/Python.framework/Versions/3.13/lib/python3.13/site-packages (from langid) (2.2.0)\n",
            "\n",
            "\u001b[1m[\u001b[0m\u001b[34;49mnotice\u001b[0m\u001b[1;39;49m]\u001b[0m\u001b[39;49m A new release of pip is available: \u001b[0m\u001b[31;49m25.0.1\u001b[0m\u001b[39;49m -> \u001b[0m\u001b[32;49m25.1.1\u001b[0m\n",
            "\u001b[1m[\u001b[0m\u001b[34;49mnotice\u001b[0m\u001b[1;39;49m]\u001b[0m\u001b[39;49m To update, run: \u001b[0m\u001b[32;49mpip install --upgrade pip\u001b[0m\n",
            "Note: you may need to restart the kernel to use updated packages.\n"
          ]
        },
        {
          "name": "stderr",
          "output_type": "stream",
          "text": [
            "huggingface/tokenizers: The current process just got forked, after parallelism has already been used. Disabling parallelism to avoid deadlocks...\n",
            "To disable this warning, you can either:\n",
            "\t- Avoid using `tokenizers` before the fork if possible\n",
            "\t- Explicitly set the environment variable TOKENIZERS_PARALLELISM=(true | false)\n"
          ]
        },
        {
          "name": "stdout",
          "output_type": "stream",
          "text": [
            "Defaulting to user installation because normal site-packages is not writeable\n",
            "Requirement already satisfied: transformers in /Users/mateo/Library/Python/3.13/lib/python/site-packages (4.51.3)\n",
            "Requirement already satisfied: torch in /Users/mateo/Library/Python/3.13/lib/python/site-packages (2.7.0)\n",
            "Requirement already satisfied: filelock in /Users/mateo/Library/Python/3.13/lib/python/site-packages (from transformers) (3.18.0)\n",
            "Requirement already satisfied: huggingface-hub<1.0,>=0.30.0 in /Users/mateo/Library/Python/3.13/lib/python/site-packages (from transformers) (0.31.1)\n",
            "Requirement already satisfied: numpy>=1.17 in /Library/Frameworks/Python.framework/Versions/3.13/lib/python3.13/site-packages (from transformers) (2.2.0)\n",
            "Requirement already satisfied: packaging>=20.0 in /Library/Frameworks/Python.framework/Versions/3.13/lib/python3.13/site-packages (from transformers) (24.2)\n",
            "Requirement already satisfied: pyyaml>=5.1 in /Library/Frameworks/Python.framework/Versions/3.13/lib/python3.13/site-packages (from transformers) (6.0.2)\n",
            "Requirement already satisfied: regex!=2019.12.17 in /Users/mateo/Library/Python/3.13/lib/python/site-packages (from transformers) (2024.11.6)\n",
            "Requirement already satisfied: requests in /Library/Frameworks/Python.framework/Versions/3.13/lib/python3.13/site-packages (from transformers) (2.32.3)\n",
            "Requirement already satisfied: tokenizers<0.22,>=0.21 in /Users/mateo/Library/Python/3.13/lib/python/site-packages (from transformers) (0.21.1)\n",
            "Requirement already satisfied: safetensors>=0.4.3 in /Users/mateo/Library/Python/3.13/lib/python/site-packages (from transformers) (0.5.3)\n",
            "Requirement already satisfied: tqdm>=4.27 in /Users/mateo/Library/Python/3.13/lib/python/site-packages (from transformers) (4.67.1)\n",
            "Requirement already satisfied: typing-extensions>=4.10.0 in /Users/mateo/Library/Python/3.13/lib/python/site-packages (from torch) (4.13.2)\n",
            "Requirement already satisfied: setuptools in /Users/mateo/Library/Python/3.13/lib/python/site-packages (from torch) (80.3.1)\n",
            "Requirement already satisfied: sympy>=1.13.3 in /Users/mateo/Library/Python/3.13/lib/python/site-packages (from torch) (1.14.0)\n",
            "Requirement already satisfied: networkx in /Users/mateo/Library/Python/3.13/lib/python/site-packages (from torch) (3.4.2)\n",
            "Requirement already satisfied: jinja2 in /Users/mateo/Library/Python/3.13/lib/python/site-packages (from torch) (3.1.6)\n",
            "Requirement already satisfied: fsspec in /Users/mateo/Library/Python/3.13/lib/python/site-packages (from torch) (2025.3.2)\n",
            "Requirement already satisfied: hf-xet<2.0.0,>=1.1.0 in /Users/mateo/Library/Python/3.13/lib/python/site-packages (from huggingface-hub<1.0,>=0.30.0->transformers) (1.1.0)\n",
            "Requirement already satisfied: mpmath<1.4,>=1.1.0 in /Users/mateo/Library/Python/3.13/lib/python/site-packages (from sympy>=1.13.3->torch) (1.3.0)\n",
            "Requirement already satisfied: MarkupSafe>=2.0 in /Users/mateo/Library/Python/3.13/lib/python/site-packages (from jinja2->torch) (3.0.2)\n",
            "Requirement already satisfied: charset-normalizer<4,>=2 in /Library/Frameworks/Python.framework/Versions/3.13/lib/python3.13/site-packages (from requests->transformers) (3.4.1)\n",
            "Requirement already satisfied: idna<4,>=2.5 in /Library/Frameworks/Python.framework/Versions/3.13/lib/python3.13/site-packages (from requests->transformers) (3.10)\n",
            "Requirement already satisfied: urllib3<3,>=1.21.1 in /Library/Frameworks/Python.framework/Versions/3.13/lib/python3.13/site-packages (from requests->transformers) (2.3.0)\n",
            "Requirement already satisfied: certifi>=2017.4.17 in /Library/Frameworks/Python.framework/Versions/3.13/lib/python3.13/site-packages (from requests->transformers) (2025.1.31)\n",
            "\n",
            "\u001b[1m[\u001b[0m\u001b[34;49mnotice\u001b[0m\u001b[1;39;49m]\u001b[0m\u001b[39;49m A new release of pip is available: \u001b[0m\u001b[31;49m25.0.1\u001b[0m\u001b[39;49m -> \u001b[0m\u001b[32;49m25.1.1\u001b[0m\n",
            "\u001b[1m[\u001b[0m\u001b[34;49mnotice\u001b[0m\u001b[1;39;49m]\u001b[0m\u001b[39;49m To update, run: \u001b[0m\u001b[32;49mpip install --upgrade pip\u001b[0m\n",
            "Note: you may need to restart the kernel to use updated packages.\n"
          ]
        }
      ],
      "source": [
        "import numpy as np # linear algebra\n",
        "import pandas as pd # data processing, CSV file I/O (e.g. pd.read_csv)\n",
        "import matplotlib.pyplot as plt\n",
        "import os\n",
        "%pip install langid\n",
        "import langid\n",
        "import time\n",
        "import ast\n",
        "import timeit\n",
        "\n",
        "%pip install transformers torch\n",
        "from transformers import pipeline\n",
        "\n",
        "pd.set_option('display.max_columns', None)\n",
        "pd.set_option('display.max_colwidth', 100)"
      ]
    },
    {
      "cell_type": "code",
      "execution_count": 42,
      "metadata": {
        "id": "rNq_TCagkXoC",
        "trusted": true
      },
      "outputs": [
        {
          "data": {
            "text/plain": [
              "['config.ini']"
            ]
          },
          "execution_count": 42,
          "metadata": {},
          "output_type": "execute_result"
        }
      ],
      "source": [
        "import configparser\n",
        "config = configparser.ConfigParser()\n",
        "config_file = \"config.ini\"\n",
        "config.read(config_file)"
      ]
    },
    {
      "cell_type": "code",
      "execution_count": 43,
      "metadata": {},
      "outputs": [],
      "source": [
        "\n",
        "movies_file = config[\"FILES\"][\"MOVIES_FILE\"]\n",
        "ratings_file = config[\"FILES\"][\"RATINGS_FILE\"]\n",
        "credits_file = config[\"FILES\"][\"CREDITS_FILE\"]\n",
        "\n",
        "movies_df = pd.read_csv(movies_file, low_memory=False)\n",
        "ratings_df = pd.read_csv(ratings_file)\n",
        "credits_df = pd.read_csv(credits_file)\n",
        "\n",
        "OUTPUT_FILE = \"output/output.txt\""
      ]
    },
    {
      "cell_type": "code",
      "execution_count": 44,
      "metadata": {
        "id": "HDdWZ_IekXoD",
        "trusted": true
      },
      "outputs": [
        {
          "data": {
            "text/plain": [
              "(7990, 24)"
            ]
          },
          "execution_count": 44,
          "metadata": {},
          "output_type": "execute_result"
        }
      ],
      "source": [
        "movies_df.shape"
      ]
    },
    {
      "cell_type": "code",
      "execution_count": 45,
      "metadata": {
        "id": "hcHUnsbskXoD",
        "trusted": true
      },
      "outputs": [
        {
          "data": {
            "text/plain": [
              "(100006, 4)"
            ]
          },
          "execution_count": 45,
          "metadata": {},
          "output_type": "execute_result"
        }
      ],
      "source": [
        "ratings_df.shape"
      ]
    },
    {
      "cell_type": "code",
      "execution_count": 46,
      "metadata": {
        "id": "8fduri_JkXoD",
        "trusted": true
      },
      "outputs": [
        {
          "data": {
            "text/plain": [
              "(45476, 3)"
            ]
          },
          "execution_count": 46,
          "metadata": {},
          "output_type": "execute_result"
        }
      ],
      "source": [
        "credits_df.shape"
      ]
    },
    {
      "cell_type": "code",
      "execution_count": 47,
      "metadata": {
        "id": "v_kliOMFkXoD",
        "trusted": true
      },
      "outputs": [
        {
          "data": {
            "text/plain": [
              "adult                       bool\n",
              "belongs_to_collection     object\n",
              "budget                     int64\n",
              "genres                    object\n",
              "homepage                  object\n",
              "id                         int64\n",
              "imdb_id                   object\n",
              "original_language         object\n",
              "original_title            object\n",
              "overview                  object\n",
              "popularity               float64\n",
              "poster_path               object\n",
              "production_companies      object\n",
              "production_countries      object\n",
              "release_date              object\n",
              "revenue                    int64\n",
              "runtime                  float64\n",
              "spoken_languages          object\n",
              "status                    object\n",
              "tagline                   object\n",
              "title                     object\n",
              "video                       bool\n",
              "vote_average             float64\n",
              "vote_count                 int64\n",
              "dtype: object"
            ]
          },
          "execution_count": 47,
          "metadata": {},
          "output_type": "execute_result"
        }
      ],
      "source": [
        "movies_df.dtypes"
      ]
    },
    {
      "cell_type": "code",
      "execution_count": 48,
      "metadata": {
        "id": "PkQt-KtDkXoD",
        "trusted": true
      },
      "outputs": [
        {
          "data": {
            "text/plain": [
              "userId         int64\n",
              "movieId        int64\n",
              "rating       float64\n",
              "timestamp      int64\n",
              "dtype: object"
            ]
          },
          "execution_count": 48,
          "metadata": {},
          "output_type": "execute_result"
        }
      ],
      "source": [
        "ratings_df.dtypes"
      ]
    },
    {
      "cell_type": "code",
      "execution_count": 49,
      "metadata": {
        "id": "M82PcqEvkXoE",
        "trusted": true
      },
      "outputs": [
        {
          "data": {
            "text/plain": [
              "cast    object\n",
              "crew    object\n",
              "id       int64\n",
              "dtype: object"
            ]
          },
          "execution_count": 49,
          "metadata": {},
          "output_type": "execute_result"
        }
      ],
      "source": [
        "credits_df.dtypes"
      ]
    },
    {
      "cell_type": "code",
      "execution_count": 50,
      "metadata": {
        "id": "TGYXpzk4kXoE",
        "trusted": true
      },
      "outputs": [
        {
          "data": {
            "text/html": [
              "<div>\n",
              "<style scoped>\n",
              "    .dataframe tbody tr th:only-of-type {\n",
              "        vertical-align: middle;\n",
              "    }\n",
              "\n",
              "    .dataframe tbody tr th {\n",
              "        vertical-align: top;\n",
              "    }\n",
              "\n",
              "    .dataframe thead th {\n",
              "        text-align: right;\n",
              "    }\n",
              "</style>\n",
              "<table border=\"1\" class=\"dataframe\">\n",
              "  <thead>\n",
              "    <tr style=\"text-align: right;\">\n",
              "      <th></th>\n",
              "      <th>adult</th>\n",
              "      <th>belongs_to_collection</th>\n",
              "      <th>budget</th>\n",
              "      <th>genres</th>\n",
              "      <th>homepage</th>\n",
              "      <th>id</th>\n",
              "      <th>imdb_id</th>\n",
              "      <th>original_language</th>\n",
              "      <th>original_title</th>\n",
              "      <th>overview</th>\n",
              "      <th>popularity</th>\n",
              "      <th>poster_path</th>\n",
              "      <th>production_companies</th>\n",
              "      <th>production_countries</th>\n",
              "      <th>release_date</th>\n",
              "      <th>revenue</th>\n",
              "      <th>runtime</th>\n",
              "      <th>spoken_languages</th>\n",
              "      <th>status</th>\n",
              "      <th>tagline</th>\n",
              "      <th>title</th>\n",
              "      <th>video</th>\n",
              "      <th>vote_average</th>\n",
              "      <th>vote_count</th>\n",
              "    </tr>\n",
              "  </thead>\n",
              "  <tbody>\n",
              "    <tr>\n",
              "      <th>0</th>\n",
              "      <td>False</td>\n",
              "      <td>{'id': 10194, 'name': 'Toy Story Collection', 'poster_path': '/7G9915LfUQ2lVfwMEEhDsn3kT4B.jpg',...</td>\n",
              "      <td>30000000</td>\n",
              "      <td>[{'id': 16, 'name': 'Animation'}, {'id': 35, 'name': 'Comedy'}, {'id': 10751, 'name': 'Family'}]</td>\n",
              "      <td>http://toystory.disney.com/toy-story</td>\n",
              "      <td>862</td>\n",
              "      <td>tt0114709</td>\n",
              "      <td>en</td>\n",
              "      <td>Toy Story</td>\n",
              "      <td>Led by Woody, Andy's toys live happily in his room until Andy's birthday brings Buzz Lightyear o...</td>\n",
              "      <td>21.946943</td>\n",
              "      <td>/rhIRbceoE9lR4veEXuwCC2wARtG.jpg</td>\n",
              "      <td>[{'name': 'Pixar Animation Studios', 'id': 3}]</td>\n",
              "      <td>[{'iso_3166_1': 'US', 'name': 'United States of America'}]</td>\n",
              "      <td>1995-10-30</td>\n",
              "      <td>373554033</td>\n",
              "      <td>81.0</td>\n",
              "      <td>[{'iso_639_1': 'en', 'name': 'English'}]</td>\n",
              "      <td>Released</td>\n",
              "      <td>NaN</td>\n",
              "      <td>Toy Story</td>\n",
              "      <td>False</td>\n",
              "      <td>7.7</td>\n",
              "      <td>5415</td>\n",
              "    </tr>\n",
              "    <tr>\n",
              "      <th>1</th>\n",
              "      <td>False</td>\n",
              "      <td>NaN</td>\n",
              "      <td>65000000</td>\n",
              "      <td>[{'id': 12, 'name': 'Adventure'}, {'id': 14, 'name': 'Fantasy'}, {'id': 10751, 'name': 'Family'}]</td>\n",
              "      <td>NaN</td>\n",
              "      <td>8844</td>\n",
              "      <td>tt0113497</td>\n",
              "      <td>en</td>\n",
              "      <td>Jumanji</td>\n",
              "      <td>When siblings Judy and Peter discover an enchanted board game that opens the door to a magical w...</td>\n",
              "      <td>17.015539</td>\n",
              "      <td>/vzmL6fP7aPKNKPRTFnZmiUfciyV.jpg</td>\n",
              "      <td>[{'name': 'TriStar Pictures', 'id': 559}, {'name': 'Teitler Film', 'id': 2550}, {'name': 'Inters...</td>\n",
              "      <td>[{'iso_3166_1': 'US', 'name': 'United States of America'}]</td>\n",
              "      <td>1995-12-15</td>\n",
              "      <td>262797249</td>\n",
              "      <td>104.0</td>\n",
              "      <td>[{'iso_639_1': 'en', 'name': 'English'}, {'iso_639_1': 'fr', 'name': 'Français'}]</td>\n",
              "      <td>Released</td>\n",
              "      <td>Roll the dice and unleash the excitement!</td>\n",
              "      <td>Jumanji</td>\n",
              "      <td>False</td>\n",
              "      <td>6.9</td>\n",
              "      <td>2413</td>\n",
              "    </tr>\n",
              "    <tr>\n",
              "      <th>2</th>\n",
              "      <td>False</td>\n",
              "      <td>{'id': 119050, 'name': 'Grumpy Old Men Collection', 'poster_path': '/nLvUdqgPgm3F85NMCii9gVFUcet...</td>\n",
              "      <td>0</td>\n",
              "      <td>[{'id': 10749, 'name': 'Romance'}, {'id': 35, 'name': 'Comedy'}]</td>\n",
              "      <td>NaN</td>\n",
              "      <td>15602</td>\n",
              "      <td>tt0113228</td>\n",
              "      <td>en</td>\n",
              "      <td>Grumpier Old Men</td>\n",
              "      <td>A family wedding reignites the ancient feud between next-door neighbors and fishing buddies John...</td>\n",
              "      <td>11.712900</td>\n",
              "      <td>/6ksm1sjKMFLbO7UY2i6G1ju9SML.jpg</td>\n",
              "      <td>[{'name': 'Warner Bros.', 'id': 6194}, {'name': 'Lancaster Gate', 'id': 19464}]</td>\n",
              "      <td>[{'iso_3166_1': 'US', 'name': 'United States of America'}]</td>\n",
              "      <td>1995-12-22</td>\n",
              "      <td>0</td>\n",
              "      <td>101.0</td>\n",
              "      <td>[{'iso_639_1': 'en', 'name': 'English'}]</td>\n",
              "      <td>Released</td>\n",
              "      <td>Still Yelling. Still Fighting. Still Ready for Love.</td>\n",
              "      <td>Grumpier Old Men</td>\n",
              "      <td>False</td>\n",
              "      <td>6.5</td>\n",
              "      <td>92</td>\n",
              "    </tr>\n",
              "    <tr>\n",
              "      <th>3</th>\n",
              "      <td>False</td>\n",
              "      <td>NaN</td>\n",
              "      <td>16000000</td>\n",
              "      <td>[{'id': 35, 'name': 'Comedy'}, {'id': 18, 'name': 'Drama'}, {'id': 10749, 'name': 'Romance'}]</td>\n",
              "      <td>NaN</td>\n",
              "      <td>31357</td>\n",
              "      <td>tt0114885</td>\n",
              "      <td>en</td>\n",
              "      <td>Waiting to Exhale</td>\n",
              "      <td>Cheated on, mistreated and stepped on, the women are holding their breath, waiting for the elusi...</td>\n",
              "      <td>3.859495</td>\n",
              "      <td>/16XOMpEaLWkrcPqSQqhTmeJuqQl.jpg</td>\n",
              "      <td>[{'name': 'Twentieth Century Fox Film Corporation', 'id': 306}]</td>\n",
              "      <td>[{'iso_3166_1': 'US', 'name': 'United States of America'}]</td>\n",
              "      <td>1995-12-22</td>\n",
              "      <td>81452156</td>\n",
              "      <td>127.0</td>\n",
              "      <td>[{'iso_639_1': 'en', 'name': 'English'}]</td>\n",
              "      <td>Released</td>\n",
              "      <td>Friends are the people who let you be yourself... and never let you forget it.</td>\n",
              "      <td>Waiting to Exhale</td>\n",
              "      <td>False</td>\n",
              "      <td>6.1</td>\n",
              "      <td>34</td>\n",
              "    </tr>\n",
              "    <tr>\n",
              "      <th>4</th>\n",
              "      <td>False</td>\n",
              "      <td>{'id': 96871, 'name': 'Father of the Bride Collection', 'poster_path': '/nts4iOmNnq7GNicycMJ9pSA...</td>\n",
              "      <td>0</td>\n",
              "      <td>[{'id': 35, 'name': 'Comedy'}]</td>\n",
              "      <td>NaN</td>\n",
              "      <td>11862</td>\n",
              "      <td>tt0113041</td>\n",
              "      <td>en</td>\n",
              "      <td>Father of the Bride Part II</td>\n",
              "      <td>Just when George Banks has recovered from his daughter's wedding, he receives the news that she'...</td>\n",
              "      <td>8.387519</td>\n",
              "      <td>/e64sOI48hQXyru7naBFyssKFxVd.jpg</td>\n",
              "      <td>[{'name': 'Sandollar Productions', 'id': 5842}, {'name': 'Touchstone Pictures', 'id': 9195}]</td>\n",
              "      <td>[{'iso_3166_1': 'US', 'name': 'United States of America'}]</td>\n",
              "      <td>1995-02-10</td>\n",
              "      <td>76578911</td>\n",
              "      <td>106.0</td>\n",
              "      <td>[{'iso_639_1': 'en', 'name': 'English'}]</td>\n",
              "      <td>Released</td>\n",
              "      <td>Just When His World Is Back To Normal... He's In For The Surprise Of His Life!</td>\n",
              "      <td>Father of the Bride Part II</td>\n",
              "      <td>False</td>\n",
              "      <td>5.7</td>\n",
              "      <td>173</td>\n",
              "    </tr>\n",
              "  </tbody>\n",
              "</table>\n",
              "</div>"
            ],
            "text/plain": [
              "   adult  \\\n",
              "0  False   \n",
              "1  False   \n",
              "2  False   \n",
              "3  False   \n",
              "4  False   \n",
              "\n",
              "                                                                                 belongs_to_collection  \\\n",
              "0  {'id': 10194, 'name': 'Toy Story Collection', 'poster_path': '/7G9915LfUQ2lVfwMEEhDsn3kT4B.jpg',...   \n",
              "1                                                                                                  NaN   \n",
              "2  {'id': 119050, 'name': 'Grumpy Old Men Collection', 'poster_path': '/nLvUdqgPgm3F85NMCii9gVFUcet...   \n",
              "3                                                                                                  NaN   \n",
              "4  {'id': 96871, 'name': 'Father of the Bride Collection', 'poster_path': '/nts4iOmNnq7GNicycMJ9pSA...   \n",
              "\n",
              "     budget  \\\n",
              "0  30000000   \n",
              "1  65000000   \n",
              "2         0   \n",
              "3  16000000   \n",
              "4         0   \n",
              "\n",
              "                                                                                              genres  \\\n",
              "0   [{'id': 16, 'name': 'Animation'}, {'id': 35, 'name': 'Comedy'}, {'id': 10751, 'name': 'Family'}]   \n",
              "1  [{'id': 12, 'name': 'Adventure'}, {'id': 14, 'name': 'Fantasy'}, {'id': 10751, 'name': 'Family'}]   \n",
              "2                                   [{'id': 10749, 'name': 'Romance'}, {'id': 35, 'name': 'Comedy'}]   \n",
              "3      [{'id': 35, 'name': 'Comedy'}, {'id': 18, 'name': 'Drama'}, {'id': 10749, 'name': 'Romance'}]   \n",
              "4                                                                     [{'id': 35, 'name': 'Comedy'}]   \n",
              "\n",
              "                               homepage     id    imdb_id original_language  \\\n",
              "0  http://toystory.disney.com/toy-story    862  tt0114709                en   \n",
              "1                                   NaN   8844  tt0113497                en   \n",
              "2                                   NaN  15602  tt0113228                en   \n",
              "3                                   NaN  31357  tt0114885                en   \n",
              "4                                   NaN  11862  tt0113041                en   \n",
              "\n",
              "                original_title  \\\n",
              "0                    Toy Story   \n",
              "1                      Jumanji   \n",
              "2             Grumpier Old Men   \n",
              "3            Waiting to Exhale   \n",
              "4  Father of the Bride Part II   \n",
              "\n",
              "                                                                                              overview  \\\n",
              "0  Led by Woody, Andy's toys live happily in his room until Andy's birthday brings Buzz Lightyear o...   \n",
              "1  When siblings Judy and Peter discover an enchanted board game that opens the door to a magical w...   \n",
              "2  A family wedding reignites the ancient feud between next-door neighbors and fishing buddies John...   \n",
              "3  Cheated on, mistreated and stepped on, the women are holding their breath, waiting for the elusi...   \n",
              "4  Just when George Banks has recovered from his daughter's wedding, he receives the news that she'...   \n",
              "\n",
              "   popularity                       poster_path  \\\n",
              "0   21.946943  /rhIRbceoE9lR4veEXuwCC2wARtG.jpg   \n",
              "1   17.015539  /vzmL6fP7aPKNKPRTFnZmiUfciyV.jpg   \n",
              "2   11.712900  /6ksm1sjKMFLbO7UY2i6G1ju9SML.jpg   \n",
              "3    3.859495  /16XOMpEaLWkrcPqSQqhTmeJuqQl.jpg   \n",
              "4    8.387519  /e64sOI48hQXyru7naBFyssKFxVd.jpg   \n",
              "\n",
              "                                                                                  production_companies  \\\n",
              "0                                                       [{'name': 'Pixar Animation Studios', 'id': 3}]   \n",
              "1  [{'name': 'TriStar Pictures', 'id': 559}, {'name': 'Teitler Film', 'id': 2550}, {'name': 'Inters...   \n",
              "2                      [{'name': 'Warner Bros.', 'id': 6194}, {'name': 'Lancaster Gate', 'id': 19464}]   \n",
              "3                                      [{'name': 'Twentieth Century Fox Film Corporation', 'id': 306}]   \n",
              "4         [{'name': 'Sandollar Productions', 'id': 5842}, {'name': 'Touchstone Pictures', 'id': 9195}]   \n",
              "\n",
              "                                         production_countries release_date  \\\n",
              "0  [{'iso_3166_1': 'US', 'name': 'United States of America'}]   1995-10-30   \n",
              "1  [{'iso_3166_1': 'US', 'name': 'United States of America'}]   1995-12-15   \n",
              "2  [{'iso_3166_1': 'US', 'name': 'United States of America'}]   1995-12-22   \n",
              "3  [{'iso_3166_1': 'US', 'name': 'United States of America'}]   1995-12-22   \n",
              "4  [{'iso_3166_1': 'US', 'name': 'United States of America'}]   1995-02-10   \n",
              "\n",
              "     revenue  runtime  \\\n",
              "0  373554033     81.0   \n",
              "1  262797249    104.0   \n",
              "2          0    101.0   \n",
              "3   81452156    127.0   \n",
              "4   76578911    106.0   \n",
              "\n",
              "                                                                    spoken_languages  \\\n",
              "0                                           [{'iso_639_1': 'en', 'name': 'English'}]   \n",
              "1  [{'iso_639_1': 'en', 'name': 'English'}, {'iso_639_1': 'fr', 'name': 'Français'}]   \n",
              "2                                           [{'iso_639_1': 'en', 'name': 'English'}]   \n",
              "3                                           [{'iso_639_1': 'en', 'name': 'English'}]   \n",
              "4                                           [{'iso_639_1': 'en', 'name': 'English'}]   \n",
              "\n",
              "     status  \\\n",
              "0  Released   \n",
              "1  Released   \n",
              "2  Released   \n",
              "3  Released   \n",
              "4  Released   \n",
              "\n",
              "                                                                          tagline  \\\n",
              "0                                                                             NaN   \n",
              "1                                       Roll the dice and unleash the excitement!   \n",
              "2                            Still Yelling. Still Fighting. Still Ready for Love.   \n",
              "3  Friends are the people who let you be yourself... and never let you forget it.   \n",
              "4  Just When His World Is Back To Normal... He's In For The Surprise Of His Life!   \n",
              "\n",
              "                         title  video  vote_average  vote_count  \n",
              "0                    Toy Story  False           7.7        5415  \n",
              "1                      Jumanji  False           6.9        2413  \n",
              "2             Grumpier Old Men  False           6.5          92  \n",
              "3            Waiting to Exhale  False           6.1          34  \n",
              "4  Father of the Bride Part II  False           5.7         173  "
            ]
          },
          "execution_count": 50,
          "metadata": {},
          "output_type": "execute_result"
        }
      ],
      "source": [
        "movies_df.head()"
      ]
    },
    {
      "cell_type": "code",
      "execution_count": 51,
      "metadata": {
        "id": "4sOGXEO2kXoE",
        "trusted": true
      },
      "outputs": [
        {
          "data": {
            "text/html": [
              "<div>\n",
              "<style scoped>\n",
              "    .dataframe tbody tr th:only-of-type {\n",
              "        vertical-align: middle;\n",
              "    }\n",
              "\n",
              "    .dataframe tbody tr th {\n",
              "        vertical-align: top;\n",
              "    }\n",
              "\n",
              "    .dataframe thead th {\n",
              "        text-align: right;\n",
              "    }\n",
              "</style>\n",
              "<table border=\"1\" class=\"dataframe\">\n",
              "  <thead>\n",
              "    <tr style=\"text-align: right;\">\n",
              "      <th></th>\n",
              "      <th>userId</th>\n",
              "      <th>movieId</th>\n",
              "      <th>rating</th>\n",
              "      <th>timestamp</th>\n",
              "    </tr>\n",
              "  </thead>\n",
              "  <tbody>\n",
              "    <tr>\n",
              "      <th>0</th>\n",
              "      <td>1</td>\n",
              "      <td>31</td>\n",
              "      <td>2.5</td>\n",
              "      <td>1260759144</td>\n",
              "    </tr>\n",
              "    <tr>\n",
              "      <th>1</th>\n",
              "      <td>1</td>\n",
              "      <td>1029</td>\n",
              "      <td>3.0</td>\n",
              "      <td>1260759179</td>\n",
              "    </tr>\n",
              "    <tr>\n",
              "      <th>2</th>\n",
              "      <td>1</td>\n",
              "      <td>1061</td>\n",
              "      <td>3.0</td>\n",
              "      <td>1260759182</td>\n",
              "    </tr>\n",
              "    <tr>\n",
              "      <th>3</th>\n",
              "      <td>1</td>\n",
              "      <td>1129</td>\n",
              "      <td>2.0</td>\n",
              "      <td>1260759185</td>\n",
              "    </tr>\n",
              "    <tr>\n",
              "      <th>4</th>\n",
              "      <td>1</td>\n",
              "      <td>1172</td>\n",
              "      <td>4.0</td>\n",
              "      <td>1260759205</td>\n",
              "    </tr>\n",
              "  </tbody>\n",
              "</table>\n",
              "</div>"
            ],
            "text/plain": [
              "   userId  movieId  rating   timestamp\n",
              "0       1       31     2.5  1260759144\n",
              "1       1     1029     3.0  1260759179\n",
              "2       1     1061     3.0  1260759182\n",
              "3       1     1129     2.0  1260759185\n",
              "4       1     1172     4.0  1260759205"
            ]
          },
          "execution_count": 51,
          "metadata": {},
          "output_type": "execute_result"
        }
      ],
      "source": [
        "ratings_df.head()"
      ]
    },
    {
      "cell_type": "code",
      "execution_count": 52,
      "metadata": {
        "id": "B5l3eXVykXoE",
        "trusted": true
      },
      "outputs": [
        {
          "data": {
            "text/html": [
              "<div>\n",
              "<style scoped>\n",
              "    .dataframe tbody tr th:only-of-type {\n",
              "        vertical-align: middle;\n",
              "    }\n",
              "\n",
              "    .dataframe tbody tr th {\n",
              "        vertical-align: top;\n",
              "    }\n",
              "\n",
              "    .dataframe thead th {\n",
              "        text-align: right;\n",
              "    }\n",
              "</style>\n",
              "<table border=\"1\" class=\"dataframe\">\n",
              "  <thead>\n",
              "    <tr style=\"text-align: right;\">\n",
              "      <th></th>\n",
              "      <th>cast</th>\n",
              "      <th>crew</th>\n",
              "      <th>id</th>\n",
              "    </tr>\n",
              "  </thead>\n",
              "  <tbody>\n",
              "    <tr>\n",
              "      <th>0</th>\n",
              "      <td>[{'cast_id': 14, 'character': 'Woody (voice)', 'credit_id': '52fe4284c3a36847f8024f95', 'gender'...</td>\n",
              "      <td>[{'credit_id': '52fe4284c3a36847f8024f49', 'department': 'Directing', 'gender': 2, 'id': 7879, '...</td>\n",
              "      <td>862</td>\n",
              "    </tr>\n",
              "    <tr>\n",
              "      <th>1</th>\n",
              "      <td>[{'cast_id': 1, 'character': 'Alan Parrish', 'credit_id': '52fe44bfc3a36847f80a7c73', 'gender': ...</td>\n",
              "      <td>[{'credit_id': '52fe44bfc3a36847f80a7cd1', 'department': 'Production', 'gender': 2, 'id': 511, '...</td>\n",
              "      <td>8844</td>\n",
              "    </tr>\n",
              "    <tr>\n",
              "      <th>2</th>\n",
              "      <td>[{'cast_id': 2, 'character': 'Max Goldman', 'credit_id': '52fe466a9251416c75077a8d', 'gender': 2...</td>\n",
              "      <td>[{'credit_id': '52fe466a9251416c75077a89', 'department': 'Directing', 'gender': 2, 'id': 26502, ...</td>\n",
              "      <td>15602</td>\n",
              "    </tr>\n",
              "    <tr>\n",
              "      <th>3</th>\n",
              "      <td>[{'cast_id': 1, 'character': \"Savannah 'Vannah' Jackson\", 'credit_id': '52fe44779251416c91011aad...</td>\n",
              "      <td>[{'credit_id': '52fe44779251416c91011acb', 'department': 'Directing', 'gender': 2, 'id': 2178, '...</td>\n",
              "      <td>31357</td>\n",
              "    </tr>\n",
              "    <tr>\n",
              "      <th>4</th>\n",
              "      <td>[{'cast_id': 1, 'character': 'George Banks', 'credit_id': '52fe44959251416c75039eb9', 'gender': ...</td>\n",
              "      <td>[{'credit_id': '52fe44959251416c75039ed7', 'department': 'Sound', 'gender': 2, 'id': 37, 'job': ...</td>\n",
              "      <td>11862</td>\n",
              "    </tr>\n",
              "  </tbody>\n",
              "</table>\n",
              "</div>"
            ],
            "text/plain": [
              "                                                                                                  cast  \\\n",
              "0  [{'cast_id': 14, 'character': 'Woody (voice)', 'credit_id': '52fe4284c3a36847f8024f95', 'gender'...   \n",
              "1  [{'cast_id': 1, 'character': 'Alan Parrish', 'credit_id': '52fe44bfc3a36847f80a7c73', 'gender': ...   \n",
              "2  [{'cast_id': 2, 'character': 'Max Goldman', 'credit_id': '52fe466a9251416c75077a8d', 'gender': 2...   \n",
              "3  [{'cast_id': 1, 'character': \"Savannah 'Vannah' Jackson\", 'credit_id': '52fe44779251416c91011aad...   \n",
              "4  [{'cast_id': 1, 'character': 'George Banks', 'credit_id': '52fe44959251416c75039eb9', 'gender': ...   \n",
              "\n",
              "                                                                                                  crew  \\\n",
              "0  [{'credit_id': '52fe4284c3a36847f8024f49', 'department': 'Directing', 'gender': 2, 'id': 7879, '...   \n",
              "1  [{'credit_id': '52fe44bfc3a36847f80a7cd1', 'department': 'Production', 'gender': 2, 'id': 511, '...   \n",
              "2  [{'credit_id': '52fe466a9251416c75077a89', 'department': 'Directing', 'gender': 2, 'id': 26502, ...   \n",
              "3  [{'credit_id': '52fe44779251416c91011acb', 'department': 'Directing', 'gender': 2, 'id': 2178, '...   \n",
              "4  [{'credit_id': '52fe44959251416c75039ed7', 'department': 'Sound', 'gender': 2, 'id': 37, 'job': ...   \n",
              "\n",
              "      id  \n",
              "0    862  \n",
              "1   8844  \n",
              "2  15602  \n",
              "3  31357  \n",
              "4  11862  "
            ]
          },
          "execution_count": 52,
          "metadata": {},
          "output_type": "execute_result"
        }
      ],
      "source": [
        "credits_df.head()"
      ]
    },
    {
      "cell_type": "code",
      "execution_count": 53,
      "metadata": {
        "id": "eJRpqrS4kXoE",
        "trusted": true
      },
      "outputs": [
        {
          "data": {
            "text/plain": [
              "7989"
            ]
          },
          "execution_count": 53,
          "metadata": {},
          "output_type": "execute_result"
        }
      ],
      "source": [
        "movies_df[\"id\"].nunique()"
      ]
    },
    {
      "cell_type": "code",
      "execution_count": 54,
      "metadata": {
        "id": "GB7H1cSnkXoE",
        "trusted": true
      },
      "outputs": [
        {
          "data": {
            "text/plain": [
              "9068"
            ]
          },
          "execution_count": 54,
          "metadata": {},
          "output_type": "execute_result"
        }
      ],
      "source": [
        "ratings_df[\"movieId\"].nunique()"
      ]
    },
    {
      "cell_type": "code",
      "execution_count": 55,
      "metadata": {
        "id": "bG48_JVNkXoE",
        "trusted": true
      },
      "outputs": [
        {
          "data": {
            "text/plain": [
              "45432"
            ]
          },
          "execution_count": 55,
          "metadata": {},
          "output_type": "execute_result"
        }
      ],
      "source": [
        "credits_df[\"id\"].nunique()"
      ]
    },
    {
      "cell_type": "markdown",
      "metadata": {
        "id": "el36QFK5kXoE"
      },
      "source": [
        "## Dataframes Cleaning"
      ]
    },
    {
      "cell_type": "code",
      "execution_count": 56,
      "metadata": {
        "id": "lfQJWvMmkXoE",
        "trusted": true
      },
      "outputs": [],
      "source": [
        "movies_df_columns = [\"id\", \"title\", \"genres\", \"release_date\", \"overview\", \"production_countries\", \"spoken_languages\", \"budget\", \"revenue\"]\n",
        "ratings_df_columns = [\"movieId\", \"rating\", \"timestamp\"]\n",
        "credits_df_columns = [\"id\", \"cast\"]"
      ]
    },
    {
      "cell_type": "code",
      "execution_count": 57,
      "metadata": {
        "id": "EzVcvwpRkXoF",
        "trusted": true
      },
      "outputs": [],
      "source": [
        "# Discard unuseful columns\n",
        "movies_df_cleaned = movies_df.dropna(subset=movies_df_columns)[movies_df_columns].copy()\n",
        "ratings_df_cleaned = ratings_df.dropna(subset=ratings_df_columns)[ratings_df_columns].copy()\n",
        "credits_df_cleaned = credits_df.dropna(subset=credits_df_columns)[credits_df_columns].copy()"
      ]
    },
    {
      "cell_type": "code",
      "execution_count": 58,
      "metadata": {
        "id": "kC9ClEkPkXoF",
        "trusted": true
      },
      "outputs": [],
      "source": [
        "# Dates Formatting\n",
        "movies_df_cleaned['release_date'] = pd.to_datetime(movies_df_cleaned['release_date'], format='%Y-%m-%d', errors='coerce')\n",
        "ratings_df_cleaned['timestamp'] = pd.to_datetime(ratings_df_cleaned['timestamp'], unit='s')"
      ]
    },
    {
      "cell_type": "code",
      "execution_count": 59,
      "metadata": {
        "id": "xYh2u66akXoF",
        "trusted": true
      },
      "outputs": [],
      "source": [
        "# Numbers Formatting\n",
        "movies_df_cleaned['budget'] = pd.to_numeric(movies_df_cleaned['budget'], errors='coerce')\n",
        "movies_df_cleaned['revenue'] = pd.to_numeric(movies_df_cleaned['revenue'], errors='coerce')"
      ]
    },
    {
      "cell_type": "code",
      "execution_count": 60,
      "metadata": {
        "id": "lmXBhjGkkXoF",
        "trusted": true
      },
      "outputs": [],
      "source": [
        "# Replace json fields with string arrays\n",
        "def dictionary_to_list(dictionary_str):\n",
        "    try:\n",
        "        dictionary_list = ast.literal_eval(dictionary_str)\n",
        "        return [data['name'] for data in dictionary_list]\n",
        "    except (ValueError, SyntaxError):\n",
        "        return []\n",
        "\n",
        "movies_df_cleaned['genres'] = movies_df_cleaned['genres'].apply(dictionary_to_list)\n",
        "movies_df_cleaned['production_countries'] = movies_df_cleaned['production_countries'].apply(dictionary_to_list)\n",
        "movies_df_cleaned['spoken_languages'] = movies_df_cleaned['spoken_languages'].apply(dictionary_to_list)\n",
        "credits_df_cleaned['cast'] = credits_df_cleaned['cast'].apply(dictionary_to_list)"
      ]
    },
    {
      "cell_type": "code",
      "execution_count": 61,
      "metadata": {
        "id": "xqavvACYkXoF",
        "trusted": true
      },
      "outputs": [],
      "source": [
        "movies_df_cleaned['genres'] = movies_df_cleaned['genres'].astype(str)\n",
        "movies_df_cleaned['production_countries'] = movies_df_cleaned['production_countries'].astype(str)\n",
        "movies_df_cleaned['spoken_languages'] = movies_df_cleaned['spoken_languages'].astype(str)"
      ]
    },
    {
      "cell_type": "code",
      "execution_count": 62,
      "metadata": {
        "id": "y45RTm4pkXoF",
        "trusted": true
      },
      "outputs": [
        {
          "data": {
            "text/html": [
              "<div>\n",
              "<style scoped>\n",
              "    .dataframe tbody tr th:only-of-type {\n",
              "        vertical-align: middle;\n",
              "    }\n",
              "\n",
              "    .dataframe tbody tr th {\n",
              "        vertical-align: top;\n",
              "    }\n",
              "\n",
              "    .dataframe thead th {\n",
              "        text-align: right;\n",
              "    }\n",
              "</style>\n",
              "<table border=\"1\" class=\"dataframe\">\n",
              "  <thead>\n",
              "    <tr style=\"text-align: right;\">\n",
              "      <th></th>\n",
              "      <th>id</th>\n",
              "      <th>title</th>\n",
              "      <th>genres</th>\n",
              "      <th>release_date</th>\n",
              "      <th>overview</th>\n",
              "      <th>production_countries</th>\n",
              "      <th>spoken_languages</th>\n",
              "      <th>budget</th>\n",
              "      <th>revenue</th>\n",
              "    </tr>\n",
              "  </thead>\n",
              "  <tbody>\n",
              "    <tr>\n",
              "      <th>0</th>\n",
              "      <td>862</td>\n",
              "      <td>Toy Story</td>\n",
              "      <td>['Animation', 'Comedy', 'Family']</td>\n",
              "      <td>1995-10-30</td>\n",
              "      <td>Led by Woody, Andy's toys live happily in his room until Andy's birthday brings Buzz Lightyear o...</td>\n",
              "      <td>['United States of America']</td>\n",
              "      <td>['English']</td>\n",
              "      <td>30000000</td>\n",
              "      <td>373554033</td>\n",
              "    </tr>\n",
              "    <tr>\n",
              "      <th>1</th>\n",
              "      <td>8844</td>\n",
              "      <td>Jumanji</td>\n",
              "      <td>['Adventure', 'Fantasy', 'Family']</td>\n",
              "      <td>1995-12-15</td>\n",
              "      <td>When siblings Judy and Peter discover an enchanted board game that opens the door to a magical w...</td>\n",
              "      <td>['United States of America']</td>\n",
              "      <td>['English', 'Français']</td>\n",
              "      <td>65000000</td>\n",
              "      <td>262797249</td>\n",
              "    </tr>\n",
              "    <tr>\n",
              "      <th>2</th>\n",
              "      <td>15602</td>\n",
              "      <td>Grumpier Old Men</td>\n",
              "      <td>['Romance', 'Comedy']</td>\n",
              "      <td>1995-12-22</td>\n",
              "      <td>A family wedding reignites the ancient feud between next-door neighbors and fishing buddies John...</td>\n",
              "      <td>['United States of America']</td>\n",
              "      <td>['English']</td>\n",
              "      <td>0</td>\n",
              "      <td>0</td>\n",
              "    </tr>\n",
              "    <tr>\n",
              "      <th>3</th>\n",
              "      <td>31357</td>\n",
              "      <td>Waiting to Exhale</td>\n",
              "      <td>['Comedy', 'Drama', 'Romance']</td>\n",
              "      <td>1995-12-22</td>\n",
              "      <td>Cheated on, mistreated and stepped on, the women are holding their breath, waiting for the elusi...</td>\n",
              "      <td>['United States of America']</td>\n",
              "      <td>['English']</td>\n",
              "      <td>16000000</td>\n",
              "      <td>81452156</td>\n",
              "    </tr>\n",
              "    <tr>\n",
              "      <th>4</th>\n",
              "      <td>11862</td>\n",
              "      <td>Father of the Bride Part II</td>\n",
              "      <td>['Comedy']</td>\n",
              "      <td>1995-02-10</td>\n",
              "      <td>Just when George Banks has recovered from his daughter's wedding, he receives the news that she'...</td>\n",
              "      <td>['United States of America']</td>\n",
              "      <td>['English']</td>\n",
              "      <td>0</td>\n",
              "      <td>76578911</td>\n",
              "    </tr>\n",
              "  </tbody>\n",
              "</table>\n",
              "</div>"
            ],
            "text/plain": [
              "      id                        title                              genres  \\\n",
              "0    862                    Toy Story   ['Animation', 'Comedy', 'Family']   \n",
              "1   8844                      Jumanji  ['Adventure', 'Fantasy', 'Family']   \n",
              "2  15602             Grumpier Old Men               ['Romance', 'Comedy']   \n",
              "3  31357            Waiting to Exhale      ['Comedy', 'Drama', 'Romance']   \n",
              "4  11862  Father of the Bride Part II                          ['Comedy']   \n",
              "\n",
              "  release_date  \\\n",
              "0   1995-10-30   \n",
              "1   1995-12-15   \n",
              "2   1995-12-22   \n",
              "3   1995-12-22   \n",
              "4   1995-02-10   \n",
              "\n",
              "                                                                                              overview  \\\n",
              "0  Led by Woody, Andy's toys live happily in his room until Andy's birthday brings Buzz Lightyear o...   \n",
              "1  When siblings Judy and Peter discover an enchanted board game that opens the door to a magical w...   \n",
              "2  A family wedding reignites the ancient feud between next-door neighbors and fishing buddies John...   \n",
              "3  Cheated on, mistreated and stepped on, the women are holding their breath, waiting for the elusi...   \n",
              "4  Just when George Banks has recovered from his daughter's wedding, he receives the news that she'...   \n",
              "\n",
              "           production_countries         spoken_languages    budget    revenue  \n",
              "0  ['United States of America']              ['English']  30000000  373554033  \n",
              "1  ['United States of America']  ['English', 'Français']  65000000  262797249  \n",
              "2  ['United States of America']              ['English']         0          0  \n",
              "3  ['United States of America']              ['English']  16000000   81452156  \n",
              "4  ['United States of America']              ['English']         0   76578911  "
            ]
          },
          "execution_count": 62,
          "metadata": {},
          "output_type": "execute_result"
        }
      ],
      "source": [
        "movies_df_cleaned.head()"
      ]
    },
    {
      "cell_type": "code",
      "execution_count": 63,
      "metadata": {
        "id": "-7mNIPXokXoF",
        "trusted": true
      },
      "outputs": [
        {
          "data": {
            "text/html": [
              "<div>\n",
              "<style scoped>\n",
              "    .dataframe tbody tr th:only-of-type {\n",
              "        vertical-align: middle;\n",
              "    }\n",
              "\n",
              "    .dataframe tbody tr th {\n",
              "        vertical-align: top;\n",
              "    }\n",
              "\n",
              "    .dataframe thead th {\n",
              "        text-align: right;\n",
              "    }\n",
              "</style>\n",
              "<table border=\"1\" class=\"dataframe\">\n",
              "  <thead>\n",
              "    <tr style=\"text-align: right;\">\n",
              "      <th></th>\n",
              "      <th>movieId</th>\n",
              "      <th>rating</th>\n",
              "      <th>timestamp</th>\n",
              "    </tr>\n",
              "  </thead>\n",
              "  <tbody>\n",
              "    <tr>\n",
              "      <th>0</th>\n",
              "      <td>31</td>\n",
              "      <td>2.5</td>\n",
              "      <td>2009-12-14 02:52:24</td>\n",
              "    </tr>\n",
              "    <tr>\n",
              "      <th>1</th>\n",
              "      <td>1029</td>\n",
              "      <td>3.0</td>\n",
              "      <td>2009-12-14 02:52:59</td>\n",
              "    </tr>\n",
              "    <tr>\n",
              "      <th>2</th>\n",
              "      <td>1061</td>\n",
              "      <td>3.0</td>\n",
              "      <td>2009-12-14 02:53:02</td>\n",
              "    </tr>\n",
              "    <tr>\n",
              "      <th>3</th>\n",
              "      <td>1129</td>\n",
              "      <td>2.0</td>\n",
              "      <td>2009-12-14 02:53:05</td>\n",
              "    </tr>\n",
              "    <tr>\n",
              "      <th>4</th>\n",
              "      <td>1172</td>\n",
              "      <td>4.0</td>\n",
              "      <td>2009-12-14 02:53:25</td>\n",
              "    </tr>\n",
              "  </tbody>\n",
              "</table>\n",
              "</div>"
            ],
            "text/plain": [
              "   movieId  rating           timestamp\n",
              "0       31     2.5 2009-12-14 02:52:24\n",
              "1     1029     3.0 2009-12-14 02:52:59\n",
              "2     1061     3.0 2009-12-14 02:53:02\n",
              "3     1129     2.0 2009-12-14 02:53:05\n",
              "4     1172     4.0 2009-12-14 02:53:25"
            ]
          },
          "execution_count": 63,
          "metadata": {},
          "output_type": "execute_result"
        }
      ],
      "source": [
        "ratings_df_cleaned.head()"
      ]
    },
    {
      "cell_type": "code",
      "execution_count": 64,
      "metadata": {
        "id": "eMOO6TwzkXoF",
        "trusted": true
      },
      "outputs": [
        {
          "data": {
            "text/html": [
              "<div>\n",
              "<style scoped>\n",
              "    .dataframe tbody tr th:only-of-type {\n",
              "        vertical-align: middle;\n",
              "    }\n",
              "\n",
              "    .dataframe tbody tr th {\n",
              "        vertical-align: top;\n",
              "    }\n",
              "\n",
              "    .dataframe thead th {\n",
              "        text-align: right;\n",
              "    }\n",
              "</style>\n",
              "<table border=\"1\" class=\"dataframe\">\n",
              "  <thead>\n",
              "    <tr style=\"text-align: right;\">\n",
              "      <th></th>\n",
              "      <th>id</th>\n",
              "      <th>cast</th>\n",
              "    </tr>\n",
              "  </thead>\n",
              "  <tbody>\n",
              "    <tr>\n",
              "      <th>0</th>\n",
              "      <td>862</td>\n",
              "      <td>[Tom Hanks, Tim Allen, Don Rickles, Jim Varney, Wallace Shawn, John Ratzenberger, Annie Potts, J...</td>\n",
              "    </tr>\n",
              "    <tr>\n",
              "      <th>1</th>\n",
              "      <td>8844</td>\n",
              "      <td>[Robin Williams, Jonathan Hyde, Kirsten Dunst, Bradley Pierce, Bonnie Hunt, Bebe Neuwirth, David...</td>\n",
              "    </tr>\n",
              "    <tr>\n",
              "      <th>2</th>\n",
              "      <td>15602</td>\n",
              "      <td>[Walter Matthau, Jack Lemmon, Ann-Margret, Sophia Loren, Daryl Hannah, Burgess Meredith, Kevin P...</td>\n",
              "    </tr>\n",
              "    <tr>\n",
              "      <th>3</th>\n",
              "      <td>31357</td>\n",
              "      <td>[Whitney Houston, Angela Bassett, Loretta Devine, Lela Rochon, Gregory Hines, Dennis Haysbert, M...</td>\n",
              "    </tr>\n",
              "    <tr>\n",
              "      <th>4</th>\n",
              "      <td>11862</td>\n",
              "      <td>[Steve Martin, Diane Keaton, Martin Short, Kimberly Williams-Paisley, George Newbern, Kieran Cul...</td>\n",
              "    </tr>\n",
              "  </tbody>\n",
              "</table>\n",
              "</div>"
            ],
            "text/plain": [
              "      id  \\\n",
              "0    862   \n",
              "1   8844   \n",
              "2  15602   \n",
              "3  31357   \n",
              "4  11862   \n",
              "\n",
              "                                                                                                  cast  \n",
              "0  [Tom Hanks, Tim Allen, Don Rickles, Jim Varney, Wallace Shawn, John Ratzenberger, Annie Potts, J...  \n",
              "1  [Robin Williams, Jonathan Hyde, Kirsten Dunst, Bradley Pierce, Bonnie Hunt, Bebe Neuwirth, David...  \n",
              "2  [Walter Matthau, Jack Lemmon, Ann-Margret, Sophia Loren, Daryl Hannah, Burgess Meredith, Kevin P...  \n",
              "3  [Whitney Houston, Angela Bassett, Loretta Devine, Lela Rochon, Gregory Hines, Dennis Haysbert, M...  \n",
              "4  [Steve Martin, Diane Keaton, Martin Short, Kimberly Williams-Paisley, George Newbern, Kieran Cul...  "
            ]
          },
          "execution_count": 64,
          "metadata": {},
          "output_type": "execute_result"
        }
      ],
      "source": [
        "credits_df_cleaned.head()"
      ]
    },
    {
      "cell_type": "code",
      "execution_count": 65,
      "metadata": {
        "id": "2UtrUThWkXoF",
        "trusted": true
      },
      "outputs": [
        {
          "data": {
            "text/plain": [
              "id                               int64\n",
              "title                           object\n",
              "genres                          object\n",
              "release_date            datetime64[ns]\n",
              "overview                        object\n",
              "production_countries            object\n",
              "spoken_languages                object\n",
              "budget                           int64\n",
              "revenue                          int64\n",
              "dtype: object"
            ]
          },
          "execution_count": 65,
          "metadata": {},
          "output_type": "execute_result"
        }
      ],
      "source": [
        "movies_df_cleaned.dtypes"
      ]
    },
    {
      "cell_type": "code",
      "execution_count": 66,
      "metadata": {
        "id": "YaQgRMDbkXoF",
        "trusted": true
      },
      "outputs": [
        {
          "data": {
            "text/plain": [
              "movieId               int64\n",
              "rating              float64\n",
              "timestamp    datetime64[ns]\n",
              "dtype: object"
            ]
          },
          "execution_count": 66,
          "metadata": {},
          "output_type": "execute_result"
        }
      ],
      "source": [
        "ratings_df_cleaned.dtypes"
      ]
    },
    {
      "cell_type": "code",
      "execution_count": 67,
      "metadata": {
        "id": "_Qf6EZbvkXoF",
        "trusted": true
      },
      "outputs": [
        {
          "data": {
            "text/plain": [
              "id       int64\n",
              "cast    object\n",
              "dtype: object"
            ]
          },
          "execution_count": 67,
          "metadata": {},
          "output_type": "execute_result"
        }
      ],
      "source": [
        "credits_df_cleaned.dtypes"
      ]
    },
    {
      "cell_type": "markdown",
      "metadata": {
        "id": "F8-jpr9nkXoF"
      },
      "source": [
        "# Queries a Resolver"
      ]
    },
    {
      "cell_type": "markdown",
      "metadata": {
        "id": "VMMQi0SwkXoF"
      },
      "source": [
        "- Q1: Peliculas y sus géneros de los años 2000 con producción Argentina y Española.\n",
        "- Q2: Top 5 de países que más dinero han invertido en producciones sin colaborar con otros países.\n",
        "- Q3: Películas de Producción Argentina estrenadas a partir del 2000, con mayor y con menor promedio de rating.\n",
        "- Q4: Top 10 de actores con mayor participación en películas de producción Argentina con\n",
        "fecha de estreno posterior al 2000\n",
        "- Q5: Average de la tasa ingreso/presupuesto de peliculas con overview de sentimiento positivo vs. sentimiento negativo, para películas de habla inglesa con producción americana, estrenadas a partir del año 2000"
      ]
    },
    {
      "cell_type": "markdown",
      "metadata": {
        "id": "BfCkU3jDkXoF"
      },
      "source": [
        "### Q1:  Peliculas y sus géneros de los años 00' con producción Argentina y Española Q2:"
      ]
    },
    {
      "cell_type": "code",
      "execution_count": null,
      "metadata": {
        "id": "njsG3OzDkXoF",
        "trusted": true
      },
      "outputs": [],
      "source": [
        "movies_argentina_españa_00s_df = movies_df_cleaned[\n",
        "    (movies_df_cleaned['production_countries'].str.contains('Argentina', case=False, na=False)) &\n",
        "    (movies_df_cleaned['production_countries'].str.contains('Spain', case=False, na=False)) &\n",
        "    (movies_df_cleaned['release_date'].dt.year >= 2000) &\n",
        "    (movies_df_cleaned['release_date'].dt.year < 2010)\n",
        "]"
      ]
    },
    {
      "cell_type": "code",
      "execution_count": null,
      "metadata": {
        "id": "lsYcGjLHkXoF",
        "trusted": true
      },
      "outputs": [],
      "source": [
        "movies_argentina_españa_00s_df.shape\n"
      ]
    },
    {
      "cell_type": "code",
      "execution_count": null,
      "metadata": {
        "id": "4x-L4Yr9kXoG",
        "trusted": true
      },
      "outputs": [],
      "source": [
        "movies_argentina_españa_00s_df[[\"title\", \"genres\"]]\n",
        "\n",
        "with open(OUTPUT_FILE, \"w\") as f:\n",
        "    f.write(\"query 1\\n\")\n",
        "    for index, row in movies_argentina_españa_00s_df.iterrows():\n",
        "        title = row[\"title\"]\n",
        "        genres = row[\"genres\"]\n",
        "        f.write(f\"{title},{genres}\\n\")\n",
        "    f.write(\"\\n\")"
      ]
    },
    {
      "cell_type": "code",
      "execution_count": null,
      "metadata": {},
      "outputs": [],
      "source": [
        "movies_argentina_españa_00s_df[[\"title\", \"genres\"]]"
      ]
    },
    {
      "cell_type": "markdown",
      "metadata": {
        "id": "fQdiREU5kXoG"
      },
      "source": [
        "### Q2: Top 5 de países que más dinero han invertido en producciones sin colaborar con otros países."
      ]
    },
    {
      "cell_type": "code",
      "execution_count": null,
      "metadata": {
        "id": "q5Rbf7U8kXoG",
        "trusted": true
      },
      "outputs": [],
      "source": [
        "solo_country_df = movies_df_cleaned[movies_df_cleaned['production_countries'].apply(lambda x: len(eval(x)) == 1)]"
      ]
    },
    {
      "cell_type": "code",
      "execution_count": null,
      "metadata": {
        "id": "OlGPsXopkXoG",
        "trusted": true
      },
      "outputs": [],
      "source": [
        "solo_country_df.loc[:, 'country'] = solo_country_df['production_countries'].apply(lambda x: eval(x)[0])"
      ]
    },
    {
      "cell_type": "code",
      "execution_count": null,
      "metadata": {
        "id": "vyd0VnkykXoG",
        "trusted": true
      },
      "outputs": [],
      "source": [
        "investment_by_country = solo_country_df.groupby('country')['budget'].sum().sort_values(ascending=False)"
      ]
    },
    {
      "cell_type": "code",
      "execution_count": null,
      "metadata": {
        "id": "w1LqFvqYkXoK",
        "trusted": true
      },
      "outputs": [],
      "source": [
        "top_5_countries = investment_by_country.head(5).reset_index()\n",
        "\n",
        "print(top_5_countries)"
      ]
    },
    {
      "cell_type": "code",
      "execution_count": null,
      "metadata": {},
      "outputs": [],
      "source": [
        "with open(OUTPUT_FILE, \"a\") as f:\n",
        "    f.write(\"query 2\\n\")\n",
        "    for index, row in top_5_countries.iterrows():\n",
        "        country = row[\"country\"]\n",
        "        budget = row[\"budget\"]\n",
        "        f.write(f\"{country},{budget}\\n\")\n",
        "    f.write(\"\\n\")"
      ]
    },
    {
      "cell_type": "markdown",
      "metadata": {
        "id": "8c1ui09vkXoK"
      },
      "source": [
        "### Q3: Películas de Producción Argentina estrenadas a partir del 2000, con mayor y con menor promedio de rating."
      ]
    },
    {
      "cell_type": "code",
      "execution_count": null,
      "metadata": {
        "id": "ZGSwLshQkXoK",
        "trusted": true
      },
      "outputs": [],
      "source": [
        "movies_argentina_post_2000_df = movies_df_cleaned[\n",
        "    (movies_df_cleaned['production_countries'].str.contains('Argentina', case=False, na=False)) &\n",
        "    (movies_df_cleaned['release_date'].dt.year >= 2000)\n",
        "]"
      ]
    },
    {
      "cell_type": "code",
      "execution_count": null,
      "metadata": {
        "id": "cDQuXL5akXoK",
        "trusted": true
      },
      "outputs": [],
      "source": [
        "movies_argentina_post_2000_df = movies_argentina_post_2000_df.astype({'id': int})"
      ]
    },
    {
      "cell_type": "code",
      "execution_count": null,
      "metadata": {
        "id": "tKAnuxf3kXoK",
        "trusted": true
      },
      "outputs": [],
      "source": [
        "ranking_arg_post_2000_df = movies_argentina_post_2000_df[[\"id\", \"title\"]].merge(ratings_df_cleaned,\n",
        "                                                                                left_on=\"id\",\n",
        "                                                                                right_on=\"movieId\")\n",
        "mean_ranking_arg_post_2000_df = ranking_arg_post_2000_df.groupby([\"id\", \"title\"])['rating'].mean().reset_index()"
      ]
    },
    {
      "cell_type": "code",
      "execution_count": null,
      "metadata": {},
      "outputs": [],
      "source": [
        "title_max = \"\"\n",
        "rating_max = \"\"\n",
        "title_min = \"\"\n",
        "rating_min = \"\"\n",
        "\n",
        "if not mean_ranking_arg_post_2000_df['rating'].empty:\n",
        "    index_max = mean_ranking_arg_post_2000_df['rating'].idxmax()\n",
        "    index_min = mean_ranking_arg_post_2000_df['rating'].idxmin()\n",
        "    \n",
        "    title_max = mean_ranking_arg_post_2000_df.iloc[index_max][\"title\"]\n",
        "    rating_max = round(mean_ranking_arg_post_2000_df.iloc[index_max][\"rating\"], 2)\n",
        "\n",
        "    title_min = mean_ranking_arg_post_2000_df.iloc[index_min][\"title\"]\n",
        "    rating_min = round(mean_ranking_arg_post_2000_df.iloc[index_min][\"rating\"], 2)\n",
        "\n",
        "with open(OUTPUT_FILE, \"a\") as f:\n",
        "    f.write(\"query 3\\n\")\n",
        "    f.write(f\"max, {title_max},{rating_max}\\n\")\n",
        "    f.write(f\"min, {title_min},{rating_min}\\n\")\n",
        "    f.write(\"\\n\")"
      ]
    },
    {
      "cell_type": "markdown",
      "metadata": {
        "id": "kIimoyeokXoK"
      },
      "source": [
        "### Q4: Top 10 de actores con mayor participación en películas de producción Argentina posterior al 2000"
      ]
    },
    {
      "cell_type": "code",
      "execution_count": null,
      "metadata": {
        "id": "GZIdRFgDkXoK",
        "trusted": true
      },
      "outputs": [],
      "source": [
        "cast_arg_post_2000_df = movies_argentina_post_2000_df[[\"id\", \"title\"]].merge(credits_df_cleaned,\n",
        "                                                                                on=\"id\")\n",
        "cast_and_movie_arg_post_2000_df = cast_arg_post_2000_df.set_index(\"id\")[\"cast\"].apply(pd.Series).stack().reset_index(\"id\", name=\"name\")\n",
        "cast_per_movie_quantities = cast_and_movie_arg_post_2000_df.groupby([\"name\"]).count().reset_index().rename(columns={\"id\":\"count\"})\n",
        "cast_per_movie_quantities.nlargest(10, 'count')\n",
        "\n",
        "with open(OUTPUT_FILE, \"a\") as f:\n",
        "    f.write(\"query 4\\n\")\n",
        "    for index, row in cast_per_movie_quantities.nlargest(10, 'count').iterrows():\n",
        "        name = row[\"name\"]\n",
        "        count = row[\"count\"]\n",
        "        f.write(f\"{name},{count}\\n\")\n",
        "    f.write(\"\\n\")"
      ]
    },
    {
      "cell_type": "markdown",
      "metadata": {
        "id": "ViZ9pLUCkXoK"
      },
      "source": [
        "### Q5: Average de la tasa ingreso/presupuesto de peliculas con overview de sentimiento positivo vs. sentimiento negativo"
      ]
    },
    {
      "cell_type": "code",
      "execution_count": 68,
      "metadata": {
        "id": "fFJyHeLOkXoK",
        "trusted": true
      },
      "outputs": [],
      "source": [
        "q5_input_df = movies_df_cleaned.copy()"
      ]
    },
    {
      "cell_type": "code",
      "execution_count": 69,
      "metadata": {
        "id": "l6j1spNdkXoK",
        "trusted": true
      },
      "outputs": [],
      "source": [
        "# Nos quedamos con rows válidas\n",
        "q5_input_df = q5_input_df.loc[q5_input_df['budget'] != 0]\n",
        "q5_input_df = q5_input_df.loc[q5_input_df['revenue'] != 0]"
      ]
    },
    {
      "cell_type": "code",
      "execution_count": 78,
      "metadata": {
        "id": "vrxewfCPkXoK",
        "trusted": true
      },
      "outputs": [
        {
          "name": "stdout",
          "output_type": "stream",
          "text": [
            "      id              title                                    genres  \\\n",
            "0    862          Toy Story         ['Animation', 'Comedy', 'Family']   \n",
            "1   8844            Jumanji        ['Adventure', 'Fantasy', 'Family']   \n",
            "3  31357  Waiting to Exhale            ['Comedy', 'Drama', 'Romance']   \n",
            "5    949               Heat  ['Action', 'Crime', 'Drama', 'Thriller']   \n",
            "8   9091       Sudden Death       ['Action', 'Adventure', 'Thriller']   \n",
            "\n",
            "  release_date  \\\n",
            "0   1995-10-30   \n",
            "1   1995-12-15   \n",
            "3   1995-12-22   \n",
            "5   1995-12-15   \n",
            "8   1995-12-22   \n",
            "\n",
            "                                                                                              overview  \\\n",
            "0  Led by Woody, Andy's toys live happily in his room until Andy's birthday brings Buzz Lightyear o...   \n",
            "1  When siblings Judy and Peter discover an enchanted board game that opens the door to a magical w...   \n",
            "3  Cheated on, mistreated and stepped on, the women are holding their breath, waiting for the elusi...   \n",
            "5  Obsessive master thief, Neil McCauley leads a top-notch crew on various insane heists throughout...   \n",
            "8  International action superstar Jean Claude Van Damme teams with Powers Boothe in a Tension-packe...   \n",
            "\n",
            "           production_countries         spoken_languages    budget    revenue  \\\n",
            "0  ['United States of America']              ['English']  30000000  373554033   \n",
            "1  ['United States of America']  ['English', 'Français']  65000000  262797249   \n",
            "3  ['United States of America']              ['English']  16000000   81452156   \n",
            "5  ['United States of America']   ['English', 'Español']  60000000  187436818   \n",
            "8  ['United States of America']              ['English']  35000000   64350171   \n",
            "\n",
            "  sentiment  rate_revenue_budget  \n",
            "0  POSITIVE            12.451801  \n",
            "1  NEGATIVE             4.043035  \n",
            "3  POSITIVE             5.090760  \n",
            "5  POSITIVE             3.123947  \n",
            "8  POSITIVE             1.838576  \n"
          ]
        }
      ],
      "source": [
        "print(q5_input_df.head())"
      ]
    },
    {
      "cell_type": "code",
      "execution_count": 71,
      "metadata": {
        "id": "DQrZTWiEkXoK",
        "trusted": true
      },
      "outputs": [
        {
          "name": "stderr",
          "output_type": "stream",
          "text": [
            "Device set to use mps:0\n"
          ]
        }
      ],
      "source": [
        "# Cargar modelo preentrenado para análisis de sentimiento\n",
        "sentiment_analyzer = pipeline('sentiment-analysis', model='distilbert-base-uncased-finetuned-sst-2-english', truncation=True)"
      ]
    },
    {
      "cell_type": "code",
      "execution_count": 72,
      "metadata": {
        "id": "rg_51bN0kXoK",
        "trusted": true
      },
      "outputs": [
        {
          "name": "stdout",
          "output_type": "stream",
          "text": [
            "Execution time: 12.84 seconds\n"
          ]
        }
      ],
      "source": [
        "start_time = time.time()\n",
        "q5_input_df['sentiment'] = q5_input_df['overview'].fillna('').apply(lambda x: sentiment_analyzer(x)[0]['label'])\n",
        "elapsed_time = time.time() - start_time\n",
        "print(f\"Execution time: {elapsed_time:.2f} seconds\")"
      ]
    },
    {
      "cell_type": "code",
      "execution_count": 73,
      "metadata": {
        "id": "-bNQle0akXoL",
        "trusted": true
      },
      "outputs": [],
      "source": [
        "q5_input_df[\"rate_revenue_budget\"] = q5_input_df[\"revenue\"] / q5_input_df[\"budget\"]"
      ]
    },
    {
      "cell_type": "code",
      "execution_count": 77,
      "metadata": {
        "id": "yr4L0hrkkXoL",
        "trusted": true
      },
      "outputs": [
        {
          "name": "stdout",
          "output_type": "stream",
          "text": [
            "         id                           title  \\\n",
            "3581   8810     Mad Max 2: The Road Warrior   \n",
            "7728   2789       The Chronicles of Riddick   \n",
            "1826  43266         How Green Was My Valley   \n",
            "301    3586                   Prêt-à-Porter   \n",
            "1065    601      E.T. the Extra-Terrestrial   \n",
            "18     9273  Ace Ventura: When Nature Calls   \n",
            "2644  16406                            Dick   \n",
            "2272  12257                      Home Fries   \n",
            "88     2086                    Nick of Time   \n",
            "5311    180                 Minority Report   \n",
            "\n",
            "                                                      genres release_date  \\\n",
            "3581  ['Adventure', 'Action', 'Thriller', 'Science Fiction']   1981-12-24   \n",
            "7728                           ['Action', 'Science Fiction']   2004-06-11   \n",
            "1826                                               ['Drama']   1941-10-28   \n",
            "301                                      ['Drama', 'Comedy']   1994-12-23   \n",
            "1065   ['Science Fiction', 'Adventure', 'Family', 'Fantasy']   1982-04-03   \n",
            "18                          ['Crime', 'Comedy', 'Adventure']   1995-11-10   \n",
            "2644                                              ['Comedy']   1999-08-04   \n",
            "2272                          ['Drama', 'Comedy', 'Romance']   1998-11-25   \n",
            "88                            ['Crime', 'Drama', 'Thriller']   1995-11-22   \n",
            "5311    ['Action', 'Thriller', 'Science Fiction', 'Mystery']   2002-06-20   \n",
            "\n",
            "                                                                                                 overview  \\\n",
            "3581  Max Rockatansky returns as the heroic loner who drives the dusty roads of a postapocalyptic Aust...   \n",
            "7728  After years of outrunning ruthless bounty hunters, escaped convict Riddick suddenly finds himsel...   \n",
            "1826  At the turn of the century in a Welsh mining village, the Morgans (he stern, she gentle) raise c...   \n",
            "301   Paris Fashion Week draws the usual bunch of people; designers, reporters, models, magazine edito...   \n",
            "1065  After a gentle alien becomes stranded on Earth, the being is discovered and befriended by a youn...   \n",
            "18    Summoned from an ashram in Tibet, Ace finds himself on a perilous journey into the jungles of Af...   \n",
            "2644  Comedy about two high school girls who wander off during a class trip to the White House and mee...   \n",
            "2272  Dorian and Angus chase down their womanizing stepfather with a helicopter, frightening him to de...   \n",
            "88    Gene Watson is a public accountant who arrives on a train at Union Station in Los Angeles, accom...   \n",
            "5311  John Anderton is a top 'Precrime' cop in the late-21st century, when technology can predict crim...   \n",
            "\n",
            "                                  production_countries  \\\n",
            "3581                                     ['Australia']   \n",
            "7728                      ['United States of America']   \n",
            "1826                      ['United States of America']   \n",
            "301                       ['United States of America']   \n",
            "1065                      ['United States of America']   \n",
            "18                        ['United States of America']   \n",
            "2644  ['Canada', 'France', 'United States of America']   \n",
            "2272                      ['United States of America']   \n",
            "88                        ['United States of America']   \n",
            "5311                      ['United States of America']   \n",
            "\n",
            "                                               spoken_languages     budget  \\\n",
            "3581                                                ['English']    2000000   \n",
            "7728                                                ['English']  105000000   \n",
            "1826                                     ['English', 'Cymraeg']    1250000   \n",
            "301   ['Français', 'Italiano', 'Pусский', 'Español', 'English']   15000000   \n",
            "1065                                                ['English']   10500000   \n",
            "18                                                  ['English']   30000000   \n",
            "2644                                    ['English', 'Français']   13000000   \n",
            "2272                                                ['English']   15000000   \n",
            "88                                                  ['English']    8169363   \n",
            "5311                                     ['English', 'svenska']  102000000   \n",
            "\n",
            "        revenue sentiment  rate_revenue_budget  \n",
            "3581   24600832  NEGATIVE            12.300416  \n",
            "7728  115772733  POSITIVE             1.102597  \n",
            "1826    6000000  POSITIVE             4.800000  \n",
            "301    11300653  POSITIVE             0.753377  \n",
            "1065  792965326  NEGATIVE            75.520507  \n",
            "18    212385533  NEGATIVE             7.079518  \n",
            "2644   27500000  POSITIVE             2.115385  \n",
            "2272   10443316  NEGATIVE             0.696221  \n",
            "88      8175346  POSITIVE             1.000732  \n",
            "5311  358372926  NEGATIVE             3.513460  \n"
          ]
        }
      ],
      "source": [
        "print(q5_input_df.sample(10))"
      ]
    },
    {
      "cell_type": "code",
      "execution_count": 81,
      "metadata": {
        "id": "OGBBCPLvkXoL",
        "trusted": true
      },
      "outputs": [
        {
          "name": "stdout",
          "output_type": "stream",
          "text": [
            "  sentiment  rate_revenue_budget\n",
            "0  NEGATIVE         11270.382583\n",
            "1  POSITIVE          7520.000858\n"
          ]
        }
      ],
      "source": [
        "average_rate_by_sentiment = q5_input_df.groupby(\"sentiment\")[\"rate_revenue_budget\"].mean().reset_index()\n",
        "print(average_rate_by_sentiment)"
      ]
    },
    {
      "cell_type": "code",
      "execution_count": null,
      "metadata": {},
      "outputs": [
        {
          "name": "stdout",
          "output_type": "stream",
          "text": [
            "NEGATIVE\n",
            "POSITIVE\n"
          ]
        }
      ],
      "source": [
        "with open(OUTPUT_FILE, \"a\") as f:\n",
        "    f.write(\"query 5\\n\")\n",
        "    for index, row in average_rate_by_sentiment.iterrows():\n",
        "        sentiment = row[\"sentiment\"]\n",
        "        print(sentiment)\n",
        "        rate_revenue_budget = round(row[\"rate_revenue_budget\"], 2)\n",
        "        f.write(f\"{sentiment}    {rate_revenue_budget}\\n\")\n",
        "    f.write(\"\\n\")"
      ]
    }
  ],
  "metadata": {
    "colab": {
      "name": "FIUBA - Distribuidos 1 - The Movies",
      "provenance": []
    },
    "kaggle": {
      "accelerator": "none",
      "dataSources": [
        {
          "datasetId": 3405,
          "sourceId": 6663,
          "sourceType": "datasetVersion"
        }
      ],
      "dockerImageVersionId": 30918,
      "isGpuEnabled": false,
      "isInternetEnabled": true,
      "language": "python",
      "sourceType": "notebook"
    },
    "kernelspec": {
      "display_name": "Python 3",
      "language": "python",
      "name": "python3"
    },
    "language_info": {
      "codemirror_mode": {
        "name": "ipython",
        "version": 3
      },
      "file_extension": ".py",
      "mimetype": "text/x-python",
      "name": "python",
      "nbconvert_exporter": "python",
      "pygments_lexer": "ipython3",
      "version": "3.13.0"
    }
  },
  "nbformat": 4,
  "nbformat_minor": 0
}
