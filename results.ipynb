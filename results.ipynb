{
  "cells": [
    {
      "cell_type": "code",
      "execution_count": 55,
      "metadata": {
        "colab": {
          "base_uri": "https://localhost:8080/"
        },
        "id": "KI_2uj_uo39j",
        "outputId": "1e96e857-5f2d-4cad-a878-065ae67da52c"
      },
      "outputs": [
        {
          "name": "stderr",
          "output_type": "stream",
          "text": [
            "huggingface/tokenizers: The current process just got forked, after parallelism has already been used. Disabling parallelism to avoid deadlocks...\n",
            "To disable this warning, you can either:\n",
            "\t- Avoid using `tokenizers` before the fork if possible\n",
            "\t- Explicitly set the environment variable TOKENIZERS_PARALLELISM=(true | false)\n"
          ]
        },
        {
          "name": "stdout",
          "output_type": "stream",
          "text": [
            "Requirement already satisfied: kagglehub in ./.venv/lib/python3.13/site-packages (0.3.12)\n",
            "Requirement already satisfied: packaging in ./.venv/lib/python3.13/site-packages (from kagglehub) (25.0)\n",
            "Requirement already satisfied: pyyaml in ./.venv/lib/python3.13/site-packages (from kagglehub) (6.0.2)\n",
            "Requirement already satisfied: requests in ./.venv/lib/python3.13/site-packages (from kagglehub) (2.32.3)\n",
            "Requirement already satisfied: tqdm in ./.venv/lib/python3.13/site-packages (from kagglehub) (4.67.1)\n",
            "Requirement already satisfied: charset-normalizer<4,>=2 in ./.venv/lib/python3.13/site-packages (from requests->kagglehub) (3.4.2)\n",
            "Requirement already satisfied: idna<4,>=2.5 in ./.venv/lib/python3.13/site-packages (from requests->kagglehub) (3.10)\n",
            "Requirement already satisfied: urllib3<3,>=1.21.1 in ./.venv/lib/python3.13/site-packages (from requests->kagglehub) (2.4.0)\n",
            "Requirement already satisfied: certifi>=2017.4.17 in ./.venv/lib/python3.13/site-packages (from requests->kagglehub) (2025.4.26)\n",
            "Data source import complete.\n"
          ]
        }
      ],
      "source": [
        "# IMPORTANT: RUN THIS CELL IN ORDER TO IMPORT YOUR KAGGLE DATA SOURCES,\n",
        "# THEN FEEL FREE TO DELETE THIS CELL.\n",
        "# NOTE: THIS NOTEBOOK ENVIRONMENT DIFFERS FROM KAGGLE'S PYTHON\n",
        "# ENVIRONMENT SO THERE MAY BE MISSING LIBRARIES USED BY YOUR\n",
        "# NOTEBOOK.\n",
        "!pip install kagglehub\n",
        "import kagglehub\n",
        "rounakbanik_the_movies_dataset_path = kagglehub.dataset_download('rounakbanik/the-movies-dataset')\n",
        "\n",
        "print('Data source import complete.')\n"
      ]
    },
    {
      "cell_type": "markdown",
      "metadata": {
        "id": "IPH_s1OTo39l"
      },
      "source": [
        "# Data load, clean and format"
      ]
    },
    {
      "cell_type": "code",
      "execution_count": 56,
      "metadata": {
        "colab": {
          "base_uri": "https://localhost:8080/"
        },
        "id": "NQVJlVulo39m",
        "outputId": "eef5359a-f9e6-41cf-a371-e98b192ecab2",
        "trusted": true
      },
      "outputs": [
        {
          "name": "stderr",
          "output_type": "stream",
          "text": [
            "huggingface/tokenizers: The current process just got forked, after parallelism has already been used. Disabling parallelism to avoid deadlocks...\n",
            "To disable this warning, you can either:\n",
            "\t- Avoid using `tokenizers` before the fork if possible\n",
            "\t- Explicitly set the environment variable TOKENIZERS_PARALLELISM=(true | false)\n"
          ]
        },
        {
          "name": "stdout",
          "output_type": "stream",
          "text": [
            "Requirement already satisfied: numpy in ./.venv/lib/python3.13/site-packages (2.2.5)\n",
            "Requirement already satisfied: pandas in ./.venv/lib/python3.13/site-packages (2.2.3)\n",
            "Requirement already satisfied: matplotlib in ./.venv/lib/python3.13/site-packages (3.10.1)\n",
            "Requirement already satisfied: python-dateutil>=2.8.2 in ./.venv/lib/python3.13/site-packages (from pandas) (2.9.0.post0)\n",
            "Requirement already satisfied: pytz>=2020.1 in ./.venv/lib/python3.13/site-packages (from pandas) (2025.2)\n",
            "Requirement already satisfied: tzdata>=2022.7 in ./.venv/lib/python3.13/site-packages (from pandas) (2025.2)\n",
            "Requirement already satisfied: contourpy>=1.0.1 in ./.venv/lib/python3.13/site-packages (from matplotlib) (1.3.2)\n",
            "Requirement already satisfied: cycler>=0.10 in ./.venv/lib/python3.13/site-packages (from matplotlib) (0.12.1)\n",
            "Requirement already satisfied: fonttools>=4.22.0 in ./.venv/lib/python3.13/site-packages (from matplotlib) (4.57.0)\n",
            "Requirement already satisfied: kiwisolver>=1.3.1 in ./.venv/lib/python3.13/site-packages (from matplotlib) (1.4.8)\n",
            "Requirement already satisfied: packaging>=20.0 in ./.venv/lib/python3.13/site-packages (from matplotlib) (25.0)\n",
            "Requirement already satisfied: pillow>=8 in ./.venv/lib/python3.13/site-packages (from matplotlib) (11.2.1)\n",
            "Requirement already satisfied: pyparsing>=2.3.1 in ./.venv/lib/python3.13/site-packages (from matplotlib) (3.2.3)\n",
            "Requirement already satisfied: six>=1.5 in ./.venv/lib/python3.13/site-packages (from python-dateutil>=2.8.2->pandas) (1.17.0)\n"
          ]
        },
        {
          "name": "stderr",
          "output_type": "stream",
          "text": [
            "huggingface/tokenizers: The current process just got forked, after parallelism has already been used. Disabling parallelism to avoid deadlocks...\n",
            "To disable this warning, you can either:\n",
            "\t- Avoid using `tokenizers` before the fork if possible\n",
            "\t- Explicitly set the environment variable TOKENIZERS_PARALLELISM=(true | false)\n"
          ]
        },
        {
          "name": "stdout",
          "output_type": "stream",
          "text": [
            "Requirement already satisfied: langid in ./.venv/lib/python3.13/site-packages (1.1.6)\n",
            "Requirement already satisfied: numpy in ./.venv/lib/python3.13/site-packages (from langid) (2.2.5)\n"
          ]
        },
        {
          "name": "stderr",
          "output_type": "stream",
          "text": [
            "huggingface/tokenizers: The current process just got forked, after parallelism has already been used. Disabling parallelism to avoid deadlocks...\n",
            "To disable this warning, you can either:\n",
            "\t- Avoid using `tokenizers` before the fork if possible\n",
            "\t- Explicitly set the environment variable TOKENIZERS_PARALLELISM=(true | false)\n"
          ]
        },
        {
          "name": "stdout",
          "output_type": "stream",
          "text": [
            "Requirement already satisfied: transformers in ./.venv/lib/python3.13/site-packages (4.51.3)\n",
            "Requirement already satisfied: torch in ./.venv/lib/python3.13/site-packages (2.7.0)\n",
            "Requirement already satisfied: filelock in ./.venv/lib/python3.13/site-packages (from transformers) (3.18.0)\n",
            "Requirement already satisfied: huggingface-hub<1.0,>=0.30.0 in ./.venv/lib/python3.13/site-packages (from transformers) (0.30.2)\n",
            "Requirement already satisfied: numpy>=1.17 in ./.venv/lib/python3.13/site-packages (from transformers) (2.2.5)\n",
            "Requirement already satisfied: packaging>=20.0 in ./.venv/lib/python3.13/site-packages (from transformers) (25.0)\n",
            "Requirement already satisfied: pyyaml>=5.1 in ./.venv/lib/python3.13/site-packages (from transformers) (6.0.2)\n",
            "Requirement already satisfied: regex!=2019.12.17 in ./.venv/lib/python3.13/site-packages (from transformers) (2024.11.6)\n",
            "Requirement already satisfied: requests in ./.venv/lib/python3.13/site-packages (from transformers) (2.32.3)\n",
            "Requirement already satisfied: tokenizers<0.22,>=0.21 in ./.venv/lib/python3.13/site-packages (from transformers) (0.21.1)\n",
            "Requirement already satisfied: safetensors>=0.4.3 in ./.venv/lib/python3.13/site-packages (from transformers) (0.5.3)\n",
            "Requirement already satisfied: tqdm>=4.27 in ./.venv/lib/python3.13/site-packages (from transformers) (4.67.1)\n",
            "Requirement already satisfied: fsspec>=2023.5.0 in ./.venv/lib/python3.13/site-packages (from huggingface-hub<1.0,>=0.30.0->transformers) (2025.3.2)\n",
            "Requirement already satisfied: typing-extensions>=3.7.4.3 in ./.venv/lib/python3.13/site-packages (from huggingface-hub<1.0,>=0.30.0->transformers) (4.13.2)\n",
            "Requirement already satisfied: setuptools in ./.venv/lib/python3.13/site-packages (from torch) (80.1.0)\n",
            "Requirement already satisfied: sympy>=1.13.3 in ./.venv/lib/python3.13/site-packages (from torch) (1.14.0)\n",
            "Requirement already satisfied: networkx in ./.venv/lib/python3.13/site-packages (from torch) (3.4.2)\n",
            "Requirement already satisfied: jinja2 in ./.venv/lib/python3.13/site-packages (from torch) (3.1.6)\n",
            "Requirement already satisfied: mpmath<1.4,>=1.1.0 in ./.venv/lib/python3.13/site-packages (from sympy>=1.13.3->torch) (1.3.0)\n",
            "Requirement already satisfied: MarkupSafe>=2.0 in ./.venv/lib/python3.13/site-packages (from jinja2->torch) (3.0.2)\n",
            "Requirement already satisfied: charset-normalizer<4,>=2 in ./.venv/lib/python3.13/site-packages (from requests->transformers) (3.4.2)\n",
            "Requirement already satisfied: idna<4,>=2.5 in ./.venv/lib/python3.13/site-packages (from requests->transformers) (3.10)\n",
            "Requirement already satisfied: urllib3<3,>=1.21.1 in ./.venv/lib/python3.13/site-packages (from requests->transformers) (2.4.0)\n",
            "Requirement already satisfied: certifi>=2017.4.17 in ./.venv/lib/python3.13/site-packages (from requests->transformers) (2025.4.26)\n"
          ]
        }
      ],
      "source": [
        "!pip install numpy pandas matplotlib\n",
        "import numpy as np # linear algebra\n",
        "import pandas as pd # data processing, CSV file I/O (e.g. pd.read_csv)\n",
        "import matplotlib.pyplot as plt\n",
        "import os\n",
        "import time\n",
        "import ast\n",
        "import timeit\n",
        "\n",
        "!pip install langid\n",
        "import langid\n",
        "\n",
        "!pip install transformers torch\n",
        "from transformers import pipeline\n",
        "\n",
        "pd.set_option('display.max_columns', None)\n",
        "pd.set_option('display.max_colwidth', 100)"
      ]
    },
    {
      "cell_type": "code",
      "execution_count": 57,
      "metadata": {
        "colab": {
          "base_uri": "https://localhost:8080/",
          "height": 347
        },
        "id": "VGjtWTUyo39n",
        "outputId": "64bf0e79-32df-40e9-8701-26809098093b",
        "trusted": true
      },
      "outputs": [],
      "source": [
        "movies_df = pd.read_csv('client/movies_metadata.csv', low_memory=False)\n",
        "ratings_df = pd.read_csv('client/ratings_small.csv')\n",
        "credits_df = pd.read_csv('client/credits.csv')"
      ]
    },
    {
      "cell_type": "code",
      "execution_count": 58,
      "metadata": {
        "id": "cJNqV9-bo39n",
        "trusted": true
      },
      "outputs": [
        {
          "data": {
            "text/plain": [
              "(45466, 24)"
            ]
          },
          "execution_count": 58,
          "metadata": {},
          "output_type": "execute_result"
        }
      ],
      "source": [
        "movies_df.shape"
      ]
    },
    {
      "cell_type": "code",
      "execution_count": 59,
      "metadata": {
        "id": "4z6aLJ4Io39n",
        "trusted": true
      },
      "outputs": [
        {
          "data": {
            "text/plain": [
              "(100006, 4)"
            ]
          },
          "execution_count": 59,
          "metadata": {},
          "output_type": "execute_result"
        }
      ],
      "source": [
        "ratings_df.shape"
      ]
    },
    {
      "cell_type": "code",
      "execution_count": 60,
      "metadata": {
        "id": "LzZm2p5Io39n",
        "trusted": true
      },
      "outputs": [
        {
          "data": {
            "text/plain": [
              "(45476, 3)"
            ]
          },
          "execution_count": 60,
          "metadata": {},
          "output_type": "execute_result"
        }
      ],
      "source": [
        "credits_df.shape"
      ]
    },
    {
      "cell_type": "code",
      "execution_count": 61,
      "metadata": {
        "id": "YxDsUQgho39n",
        "trusted": true
      },
      "outputs": [
        {
          "data": {
            "text/plain": [
              "adult                     object\n",
              "belongs_to_collection     object\n",
              "budget                    object\n",
              "genres                    object\n",
              "homepage                  object\n",
              "id                        object\n",
              "imdb_id                   object\n",
              "original_language         object\n",
              "original_title            object\n",
              "overview                  object\n",
              "popularity                object\n",
              "poster_path               object\n",
              "production_companies      object\n",
              "production_countries      object\n",
              "release_date              object\n",
              "revenue                  float64\n",
              "runtime                  float64\n",
              "spoken_languages          object\n",
              "status                    object\n",
              "tagline                   object\n",
              "title                     object\n",
              "video                     object\n",
              "vote_average             float64\n",
              "vote_count               float64\n",
              "dtype: object"
            ]
          },
          "execution_count": 61,
          "metadata": {},
          "output_type": "execute_result"
        }
      ],
      "source": [
        "movies_df.dtypes"
      ]
    },
    {
      "cell_type": "code",
      "execution_count": 62,
      "metadata": {
        "id": "dZu7BaExo39o",
        "trusted": true
      },
      "outputs": [
        {
          "data": {
            "text/plain": [
              "userId         int64\n",
              "movieId        int64\n",
              "rating       float64\n",
              "timestamp      int64\n",
              "dtype: object"
            ]
          },
          "execution_count": 62,
          "metadata": {},
          "output_type": "execute_result"
        }
      ],
      "source": [
        "ratings_df.dtypes"
      ]
    },
    {
      "cell_type": "code",
      "execution_count": 63,
      "metadata": {
        "id": "P0nPqWLfo39o",
        "trusted": true
      },
      "outputs": [
        {
          "data": {
            "text/plain": [
              "cast    object\n",
              "crew    object\n",
              "id       int64\n",
              "dtype: object"
            ]
          },
          "execution_count": 63,
          "metadata": {},
          "output_type": "execute_result"
        }
      ],
      "source": [
        "credits_df.dtypes"
      ]
    },
    {
      "cell_type": "code",
      "execution_count": 64,
      "metadata": {
        "id": "_fjAlse4o39o",
        "trusted": true
      },
      "outputs": [
        {
          "data": {
            "text/html": [
              "<div>\n",
              "<style scoped>\n",
              "    .dataframe tbody tr th:only-of-type {\n",
              "        vertical-align: middle;\n",
              "    }\n",
              "\n",
              "    .dataframe tbody tr th {\n",
              "        vertical-align: top;\n",
              "    }\n",
              "\n",
              "    .dataframe thead th {\n",
              "        text-align: right;\n",
              "    }\n",
              "</style>\n",
              "<table border=\"1\" class=\"dataframe\">\n",
              "  <thead>\n",
              "    <tr style=\"text-align: right;\">\n",
              "      <th></th>\n",
              "      <th>adult</th>\n",
              "      <th>belongs_to_collection</th>\n",
              "      <th>budget</th>\n",
              "      <th>genres</th>\n",
              "      <th>homepage</th>\n",
              "      <th>id</th>\n",
              "      <th>imdb_id</th>\n",
              "      <th>original_language</th>\n",
              "      <th>original_title</th>\n",
              "      <th>overview</th>\n",
              "      <th>popularity</th>\n",
              "      <th>poster_path</th>\n",
              "      <th>production_companies</th>\n",
              "      <th>production_countries</th>\n",
              "      <th>release_date</th>\n",
              "      <th>revenue</th>\n",
              "      <th>runtime</th>\n",
              "      <th>spoken_languages</th>\n",
              "      <th>status</th>\n",
              "      <th>tagline</th>\n",
              "      <th>title</th>\n",
              "      <th>video</th>\n",
              "      <th>vote_average</th>\n",
              "      <th>vote_count</th>\n",
              "    </tr>\n",
              "  </thead>\n",
              "  <tbody>\n",
              "    <tr>\n",
              "      <th>0</th>\n",
              "      <td>False</td>\n",
              "      <td>{'id': 10194, 'name': 'Toy Story Collection', 'poster_path': '/7G9915LfUQ2lVfwMEEhDsn3kT4B.jpg',...</td>\n",
              "      <td>30000000</td>\n",
              "      <td>[{'id': 16, 'name': 'Animation'}, {'id': 35, 'name': 'Comedy'}, {'id': 10751, 'name': 'Family'}]</td>\n",
              "      <td>http://toystory.disney.com/toy-story</td>\n",
              "      <td>862</td>\n",
              "      <td>tt0114709</td>\n",
              "      <td>en</td>\n",
              "      <td>Toy Story</td>\n",
              "      <td>Led by Woody, Andy's toys live happily in his room until Andy's birthday brings Buzz Lightyear o...</td>\n",
              "      <td>21.946943</td>\n",
              "      <td>/rhIRbceoE9lR4veEXuwCC2wARtG.jpg</td>\n",
              "      <td>[{'name': 'Pixar Animation Studios', 'id': 3}]</td>\n",
              "      <td>[{'iso_3166_1': 'US', 'name': 'United States of America'}]</td>\n",
              "      <td>1995-10-30</td>\n",
              "      <td>373554033.0</td>\n",
              "      <td>81.0</td>\n",
              "      <td>[{'iso_639_1': 'en', 'name': 'English'}]</td>\n",
              "      <td>Released</td>\n",
              "      <td>NaN</td>\n",
              "      <td>Toy Story</td>\n",
              "      <td>False</td>\n",
              "      <td>7.7</td>\n",
              "      <td>5415.0</td>\n",
              "    </tr>\n",
              "    <tr>\n",
              "      <th>1</th>\n",
              "      <td>False</td>\n",
              "      <td>NaN</td>\n",
              "      <td>65000000</td>\n",
              "      <td>[{'id': 12, 'name': 'Adventure'}, {'id': 14, 'name': 'Fantasy'}, {'id': 10751, 'name': 'Family'}]</td>\n",
              "      <td>NaN</td>\n",
              "      <td>8844</td>\n",
              "      <td>tt0113497</td>\n",
              "      <td>en</td>\n",
              "      <td>Jumanji</td>\n",
              "      <td>When siblings Judy and Peter discover an enchanted board game that opens the door to a magical w...</td>\n",
              "      <td>17.015539</td>\n",
              "      <td>/vzmL6fP7aPKNKPRTFnZmiUfciyV.jpg</td>\n",
              "      <td>[{'name': 'TriStar Pictures', 'id': 559}, {'name': 'Teitler Film', 'id': 2550}, {'name': 'Inters...</td>\n",
              "      <td>[{'iso_3166_1': 'US', 'name': 'United States of America'}]</td>\n",
              "      <td>1995-12-15</td>\n",
              "      <td>262797249.0</td>\n",
              "      <td>104.0</td>\n",
              "      <td>[{'iso_639_1': 'en', 'name': 'English'}, {'iso_639_1': 'fr', 'name': 'Français'}]</td>\n",
              "      <td>Released</td>\n",
              "      <td>Roll the dice and unleash the excitement!</td>\n",
              "      <td>Jumanji</td>\n",
              "      <td>False</td>\n",
              "      <td>6.9</td>\n",
              "      <td>2413.0</td>\n",
              "    </tr>\n",
              "    <tr>\n",
              "      <th>2</th>\n",
              "      <td>False</td>\n",
              "      <td>{'id': 119050, 'name': 'Grumpy Old Men Collection', 'poster_path': '/nLvUdqgPgm3F85NMCii9gVFUcet...</td>\n",
              "      <td>0</td>\n",
              "      <td>[{'id': 10749, 'name': 'Romance'}, {'id': 35, 'name': 'Comedy'}]</td>\n",
              "      <td>NaN</td>\n",
              "      <td>15602</td>\n",
              "      <td>tt0113228</td>\n",
              "      <td>en</td>\n",
              "      <td>Grumpier Old Men</td>\n",
              "      <td>A family wedding reignites the ancient feud between next-door neighbors and fishing buddies John...</td>\n",
              "      <td>11.7129</td>\n",
              "      <td>/6ksm1sjKMFLbO7UY2i6G1ju9SML.jpg</td>\n",
              "      <td>[{'name': 'Warner Bros.', 'id': 6194}, {'name': 'Lancaster Gate', 'id': 19464}]</td>\n",
              "      <td>[{'iso_3166_1': 'US', 'name': 'United States of America'}]</td>\n",
              "      <td>1995-12-22</td>\n",
              "      <td>0.0</td>\n",
              "      <td>101.0</td>\n",
              "      <td>[{'iso_639_1': 'en', 'name': 'English'}]</td>\n",
              "      <td>Released</td>\n",
              "      <td>Still Yelling. Still Fighting. Still Ready for Love.</td>\n",
              "      <td>Grumpier Old Men</td>\n",
              "      <td>False</td>\n",
              "      <td>6.5</td>\n",
              "      <td>92.0</td>\n",
              "    </tr>\n",
              "    <tr>\n",
              "      <th>3</th>\n",
              "      <td>False</td>\n",
              "      <td>NaN</td>\n",
              "      <td>16000000</td>\n",
              "      <td>[{'id': 35, 'name': 'Comedy'}, {'id': 18, 'name': 'Drama'}, {'id': 10749, 'name': 'Romance'}]</td>\n",
              "      <td>NaN</td>\n",
              "      <td>31357</td>\n",
              "      <td>tt0114885</td>\n",
              "      <td>en</td>\n",
              "      <td>Waiting to Exhale</td>\n",
              "      <td>Cheated on, mistreated and stepped on, the women are holding their breath, waiting for the elusi...</td>\n",
              "      <td>3.859495</td>\n",
              "      <td>/16XOMpEaLWkrcPqSQqhTmeJuqQl.jpg</td>\n",
              "      <td>[{'name': 'Twentieth Century Fox Film Corporation', 'id': 306}]</td>\n",
              "      <td>[{'iso_3166_1': 'US', 'name': 'United States of America'}]</td>\n",
              "      <td>1995-12-22</td>\n",
              "      <td>81452156.0</td>\n",
              "      <td>127.0</td>\n",
              "      <td>[{'iso_639_1': 'en', 'name': 'English'}]</td>\n",
              "      <td>Released</td>\n",
              "      <td>Friends are the people who let you be yourself... and never let you forget it.</td>\n",
              "      <td>Waiting to Exhale</td>\n",
              "      <td>False</td>\n",
              "      <td>6.1</td>\n",
              "      <td>34.0</td>\n",
              "    </tr>\n",
              "    <tr>\n",
              "      <th>4</th>\n",
              "      <td>False</td>\n",
              "      <td>{'id': 96871, 'name': 'Father of the Bride Collection', 'poster_path': '/nts4iOmNnq7GNicycMJ9pSA...</td>\n",
              "      <td>0</td>\n",
              "      <td>[{'id': 35, 'name': 'Comedy'}]</td>\n",
              "      <td>NaN</td>\n",
              "      <td>11862</td>\n",
              "      <td>tt0113041</td>\n",
              "      <td>en</td>\n",
              "      <td>Father of the Bride Part II</td>\n",
              "      <td>Just when George Banks has recovered from his daughter's wedding, he receives the news that she'...</td>\n",
              "      <td>8.387519</td>\n",
              "      <td>/e64sOI48hQXyru7naBFyssKFxVd.jpg</td>\n",
              "      <td>[{'name': 'Sandollar Productions', 'id': 5842}, {'name': 'Touchstone Pictures', 'id': 9195}]</td>\n",
              "      <td>[{'iso_3166_1': 'US', 'name': 'United States of America'}]</td>\n",
              "      <td>1995-02-10</td>\n",
              "      <td>76578911.0</td>\n",
              "      <td>106.0</td>\n",
              "      <td>[{'iso_639_1': 'en', 'name': 'English'}]</td>\n",
              "      <td>Released</td>\n",
              "      <td>Just When His World Is Back To Normal... He's In For The Surprise Of His Life!</td>\n",
              "      <td>Father of the Bride Part II</td>\n",
              "      <td>False</td>\n",
              "      <td>5.7</td>\n",
              "      <td>173.0</td>\n",
              "    </tr>\n",
              "  </tbody>\n",
              "</table>\n",
              "</div>"
            ],
            "text/plain": [
              "   adult  \\\n",
              "0  False   \n",
              "1  False   \n",
              "2  False   \n",
              "3  False   \n",
              "4  False   \n",
              "\n",
              "                                                                                 belongs_to_collection  \\\n",
              "0  {'id': 10194, 'name': 'Toy Story Collection', 'poster_path': '/7G9915LfUQ2lVfwMEEhDsn3kT4B.jpg',...   \n",
              "1                                                                                                  NaN   \n",
              "2  {'id': 119050, 'name': 'Grumpy Old Men Collection', 'poster_path': '/nLvUdqgPgm3F85NMCii9gVFUcet...   \n",
              "3                                                                                                  NaN   \n",
              "4  {'id': 96871, 'name': 'Father of the Bride Collection', 'poster_path': '/nts4iOmNnq7GNicycMJ9pSA...   \n",
              "\n",
              "     budget  \\\n",
              "0  30000000   \n",
              "1  65000000   \n",
              "2         0   \n",
              "3  16000000   \n",
              "4         0   \n",
              "\n",
              "                                                                                              genres  \\\n",
              "0   [{'id': 16, 'name': 'Animation'}, {'id': 35, 'name': 'Comedy'}, {'id': 10751, 'name': 'Family'}]   \n",
              "1  [{'id': 12, 'name': 'Adventure'}, {'id': 14, 'name': 'Fantasy'}, {'id': 10751, 'name': 'Family'}]   \n",
              "2                                   [{'id': 10749, 'name': 'Romance'}, {'id': 35, 'name': 'Comedy'}]   \n",
              "3      [{'id': 35, 'name': 'Comedy'}, {'id': 18, 'name': 'Drama'}, {'id': 10749, 'name': 'Romance'}]   \n",
              "4                                                                     [{'id': 35, 'name': 'Comedy'}]   \n",
              "\n",
              "                               homepage     id    imdb_id original_language  \\\n",
              "0  http://toystory.disney.com/toy-story    862  tt0114709                en   \n",
              "1                                   NaN   8844  tt0113497                en   \n",
              "2                                   NaN  15602  tt0113228                en   \n",
              "3                                   NaN  31357  tt0114885                en   \n",
              "4                                   NaN  11862  tt0113041                en   \n",
              "\n",
              "                original_title  \\\n",
              "0                    Toy Story   \n",
              "1                      Jumanji   \n",
              "2             Grumpier Old Men   \n",
              "3            Waiting to Exhale   \n",
              "4  Father of the Bride Part II   \n",
              "\n",
              "                                                                                              overview  \\\n",
              "0  Led by Woody, Andy's toys live happily in his room until Andy's birthday brings Buzz Lightyear o...   \n",
              "1  When siblings Judy and Peter discover an enchanted board game that opens the door to a magical w...   \n",
              "2  A family wedding reignites the ancient feud between next-door neighbors and fishing buddies John...   \n",
              "3  Cheated on, mistreated and stepped on, the women are holding their breath, waiting for the elusi...   \n",
              "4  Just when George Banks has recovered from his daughter's wedding, he receives the news that she'...   \n",
              "\n",
              "  popularity                       poster_path  \\\n",
              "0  21.946943  /rhIRbceoE9lR4veEXuwCC2wARtG.jpg   \n",
              "1  17.015539  /vzmL6fP7aPKNKPRTFnZmiUfciyV.jpg   \n",
              "2    11.7129  /6ksm1sjKMFLbO7UY2i6G1ju9SML.jpg   \n",
              "3   3.859495  /16XOMpEaLWkrcPqSQqhTmeJuqQl.jpg   \n",
              "4   8.387519  /e64sOI48hQXyru7naBFyssKFxVd.jpg   \n",
              "\n",
              "                                                                                  production_companies  \\\n",
              "0                                                       [{'name': 'Pixar Animation Studios', 'id': 3}]   \n",
              "1  [{'name': 'TriStar Pictures', 'id': 559}, {'name': 'Teitler Film', 'id': 2550}, {'name': 'Inters...   \n",
              "2                      [{'name': 'Warner Bros.', 'id': 6194}, {'name': 'Lancaster Gate', 'id': 19464}]   \n",
              "3                                      [{'name': 'Twentieth Century Fox Film Corporation', 'id': 306}]   \n",
              "4         [{'name': 'Sandollar Productions', 'id': 5842}, {'name': 'Touchstone Pictures', 'id': 9195}]   \n",
              "\n",
              "                                         production_countries release_date  \\\n",
              "0  [{'iso_3166_1': 'US', 'name': 'United States of America'}]   1995-10-30   \n",
              "1  [{'iso_3166_1': 'US', 'name': 'United States of America'}]   1995-12-15   \n",
              "2  [{'iso_3166_1': 'US', 'name': 'United States of America'}]   1995-12-22   \n",
              "3  [{'iso_3166_1': 'US', 'name': 'United States of America'}]   1995-12-22   \n",
              "4  [{'iso_3166_1': 'US', 'name': 'United States of America'}]   1995-02-10   \n",
              "\n",
              "       revenue  runtime  \\\n",
              "0  373554033.0     81.0   \n",
              "1  262797249.0    104.0   \n",
              "2          0.0    101.0   \n",
              "3   81452156.0    127.0   \n",
              "4   76578911.0    106.0   \n",
              "\n",
              "                                                                    spoken_languages  \\\n",
              "0                                           [{'iso_639_1': 'en', 'name': 'English'}]   \n",
              "1  [{'iso_639_1': 'en', 'name': 'English'}, {'iso_639_1': 'fr', 'name': 'Français'}]   \n",
              "2                                           [{'iso_639_1': 'en', 'name': 'English'}]   \n",
              "3                                           [{'iso_639_1': 'en', 'name': 'English'}]   \n",
              "4                                           [{'iso_639_1': 'en', 'name': 'English'}]   \n",
              "\n",
              "     status  \\\n",
              "0  Released   \n",
              "1  Released   \n",
              "2  Released   \n",
              "3  Released   \n",
              "4  Released   \n",
              "\n",
              "                                                                          tagline  \\\n",
              "0                                                                             NaN   \n",
              "1                                       Roll the dice and unleash the excitement!   \n",
              "2                            Still Yelling. Still Fighting. Still Ready for Love.   \n",
              "3  Friends are the people who let you be yourself... and never let you forget it.   \n",
              "4  Just When His World Is Back To Normal... He's In For The Surprise Of His Life!   \n",
              "\n",
              "                         title  video  vote_average  vote_count  \n",
              "0                    Toy Story  False           7.7      5415.0  \n",
              "1                      Jumanji  False           6.9      2413.0  \n",
              "2             Grumpier Old Men  False           6.5        92.0  \n",
              "3            Waiting to Exhale  False           6.1        34.0  \n",
              "4  Father of the Bride Part II  False           5.7       173.0  "
            ]
          },
          "execution_count": 64,
          "metadata": {},
          "output_type": "execute_result"
        }
      ],
      "source": [
        "movies_df.head()"
      ]
    },
    {
      "cell_type": "code",
      "execution_count": 65,
      "metadata": {
        "id": "COEHVMjao39o",
        "trusted": true
      },
      "outputs": [
        {
          "data": {
            "text/html": [
              "<div>\n",
              "<style scoped>\n",
              "    .dataframe tbody tr th:only-of-type {\n",
              "        vertical-align: middle;\n",
              "    }\n",
              "\n",
              "    .dataframe tbody tr th {\n",
              "        vertical-align: top;\n",
              "    }\n",
              "\n",
              "    .dataframe thead th {\n",
              "        text-align: right;\n",
              "    }\n",
              "</style>\n",
              "<table border=\"1\" class=\"dataframe\">\n",
              "  <thead>\n",
              "    <tr style=\"text-align: right;\">\n",
              "      <th></th>\n",
              "      <th>userId</th>\n",
              "      <th>movieId</th>\n",
              "      <th>rating</th>\n",
              "      <th>timestamp</th>\n",
              "    </tr>\n",
              "  </thead>\n",
              "  <tbody>\n",
              "    <tr>\n",
              "      <th>0</th>\n",
              "      <td>1</td>\n",
              "      <td>31</td>\n",
              "      <td>2.5</td>\n",
              "      <td>1260759144</td>\n",
              "    </tr>\n",
              "    <tr>\n",
              "      <th>1</th>\n",
              "      <td>1</td>\n",
              "      <td>1029</td>\n",
              "      <td>3.0</td>\n",
              "      <td>1260759179</td>\n",
              "    </tr>\n",
              "    <tr>\n",
              "      <th>2</th>\n",
              "      <td>1</td>\n",
              "      <td>1061</td>\n",
              "      <td>3.0</td>\n",
              "      <td>1260759182</td>\n",
              "    </tr>\n",
              "    <tr>\n",
              "      <th>3</th>\n",
              "      <td>1</td>\n",
              "      <td>1129</td>\n",
              "      <td>2.0</td>\n",
              "      <td>1260759185</td>\n",
              "    </tr>\n",
              "    <tr>\n",
              "      <th>4</th>\n",
              "      <td>1</td>\n",
              "      <td>1172</td>\n",
              "      <td>4.0</td>\n",
              "      <td>1260759205</td>\n",
              "    </tr>\n",
              "  </tbody>\n",
              "</table>\n",
              "</div>"
            ],
            "text/plain": [
              "   userId  movieId  rating   timestamp\n",
              "0       1       31     2.5  1260759144\n",
              "1       1     1029     3.0  1260759179\n",
              "2       1     1061     3.0  1260759182\n",
              "3       1     1129     2.0  1260759185\n",
              "4       1     1172     4.0  1260759205"
            ]
          },
          "execution_count": 65,
          "metadata": {},
          "output_type": "execute_result"
        }
      ],
      "source": [
        "ratings_df.head()"
      ]
    },
    {
      "cell_type": "code",
      "execution_count": 66,
      "metadata": {
        "id": "TkRkjwH8o39o",
        "trusted": true
      },
      "outputs": [
        {
          "data": {
            "text/html": [
              "<div>\n",
              "<style scoped>\n",
              "    .dataframe tbody tr th:only-of-type {\n",
              "        vertical-align: middle;\n",
              "    }\n",
              "\n",
              "    .dataframe tbody tr th {\n",
              "        vertical-align: top;\n",
              "    }\n",
              "\n",
              "    .dataframe thead th {\n",
              "        text-align: right;\n",
              "    }\n",
              "</style>\n",
              "<table border=\"1\" class=\"dataframe\">\n",
              "  <thead>\n",
              "    <tr style=\"text-align: right;\">\n",
              "      <th></th>\n",
              "      <th>cast</th>\n",
              "      <th>crew</th>\n",
              "      <th>id</th>\n",
              "    </tr>\n",
              "  </thead>\n",
              "  <tbody>\n",
              "    <tr>\n",
              "      <th>0</th>\n",
              "      <td>[{'cast_id': 14, 'character': 'Woody (voice)', 'credit_id': '52fe4284c3a36847f8024f95', 'gender'...</td>\n",
              "      <td>[{'credit_id': '52fe4284c3a36847f8024f49', 'department': 'Directing', 'gender': 2, 'id': 7879, '...</td>\n",
              "      <td>862</td>\n",
              "    </tr>\n",
              "    <tr>\n",
              "      <th>1</th>\n",
              "      <td>[{'cast_id': 1, 'character': 'Alan Parrish', 'credit_id': '52fe44bfc3a36847f80a7c73', 'gender': ...</td>\n",
              "      <td>[{'credit_id': '52fe44bfc3a36847f80a7cd1', 'department': 'Production', 'gender': 2, 'id': 511, '...</td>\n",
              "      <td>8844</td>\n",
              "    </tr>\n",
              "    <tr>\n",
              "      <th>2</th>\n",
              "      <td>[{'cast_id': 2, 'character': 'Max Goldman', 'credit_id': '52fe466a9251416c75077a8d', 'gender': 2...</td>\n",
              "      <td>[{'credit_id': '52fe466a9251416c75077a89', 'department': 'Directing', 'gender': 2, 'id': 26502, ...</td>\n",
              "      <td>15602</td>\n",
              "    </tr>\n",
              "    <tr>\n",
              "      <th>3</th>\n",
              "      <td>[{'cast_id': 1, 'character': \"Savannah 'Vannah' Jackson\", 'credit_id': '52fe44779251416c91011aad...</td>\n",
              "      <td>[{'credit_id': '52fe44779251416c91011acb', 'department': 'Directing', 'gender': 2, 'id': 2178, '...</td>\n",
              "      <td>31357</td>\n",
              "    </tr>\n",
              "    <tr>\n",
              "      <th>4</th>\n",
              "      <td>[{'cast_id': 1, 'character': 'George Banks', 'credit_id': '52fe44959251416c75039eb9', 'gender': ...</td>\n",
              "      <td>[{'credit_id': '52fe44959251416c75039ed7', 'department': 'Sound', 'gender': 2, 'id': 37, 'job': ...</td>\n",
              "      <td>11862</td>\n",
              "    </tr>\n",
              "  </tbody>\n",
              "</table>\n",
              "</div>"
            ],
            "text/plain": [
              "                                                                                                  cast  \\\n",
              "0  [{'cast_id': 14, 'character': 'Woody (voice)', 'credit_id': '52fe4284c3a36847f8024f95', 'gender'...   \n",
              "1  [{'cast_id': 1, 'character': 'Alan Parrish', 'credit_id': '52fe44bfc3a36847f80a7c73', 'gender': ...   \n",
              "2  [{'cast_id': 2, 'character': 'Max Goldman', 'credit_id': '52fe466a9251416c75077a8d', 'gender': 2...   \n",
              "3  [{'cast_id': 1, 'character': \"Savannah 'Vannah' Jackson\", 'credit_id': '52fe44779251416c91011aad...   \n",
              "4  [{'cast_id': 1, 'character': 'George Banks', 'credit_id': '52fe44959251416c75039eb9', 'gender': ...   \n",
              "\n",
              "                                                                                                  crew  \\\n",
              "0  [{'credit_id': '52fe4284c3a36847f8024f49', 'department': 'Directing', 'gender': 2, 'id': 7879, '...   \n",
              "1  [{'credit_id': '52fe44bfc3a36847f80a7cd1', 'department': 'Production', 'gender': 2, 'id': 511, '...   \n",
              "2  [{'credit_id': '52fe466a9251416c75077a89', 'department': 'Directing', 'gender': 2, 'id': 26502, ...   \n",
              "3  [{'credit_id': '52fe44779251416c91011acb', 'department': 'Directing', 'gender': 2, 'id': 2178, '...   \n",
              "4  [{'credit_id': '52fe44959251416c75039ed7', 'department': 'Sound', 'gender': 2, 'id': 37, 'job': ...   \n",
              "\n",
              "      id  \n",
              "0    862  \n",
              "1   8844  \n",
              "2  15602  \n",
              "3  31357  \n",
              "4  11862  "
            ]
          },
          "execution_count": 66,
          "metadata": {},
          "output_type": "execute_result"
        }
      ],
      "source": [
        "credits_df.head()"
      ]
    },
    {
      "cell_type": "code",
      "execution_count": 67,
      "metadata": {
        "id": "7Ncas5Y5o39o",
        "trusted": true
      },
      "outputs": [
        {
          "data": {
            "text/plain": [
              "45436"
            ]
          },
          "execution_count": 67,
          "metadata": {},
          "output_type": "execute_result"
        }
      ],
      "source": [
        "movies_df[\"id\"].nunique()"
      ]
    },
    {
      "cell_type": "code",
      "execution_count": 68,
      "metadata": {
        "id": "fQRbfLTZo39p",
        "trusted": true
      },
      "outputs": [
        {
          "data": {
            "text/plain": [
              "9068"
            ]
          },
          "execution_count": 68,
          "metadata": {},
          "output_type": "execute_result"
        }
      ],
      "source": [
        "ratings_df[\"movieId\"].nunique()"
      ]
    },
    {
      "cell_type": "code",
      "execution_count": 69,
      "metadata": {
        "id": "Ogz6Qah_o39p",
        "trusted": true
      },
      "outputs": [
        {
          "data": {
            "text/plain": [
              "45432"
            ]
          },
          "execution_count": 69,
          "metadata": {},
          "output_type": "execute_result"
        }
      ],
      "source": [
        "credits_df[\"id\"].nunique()"
      ]
    },
    {
      "cell_type": "markdown",
      "metadata": {
        "id": "DOEQccnno39p"
      },
      "source": [
        "## Dataframes Cleaning"
      ]
    },
    {
      "cell_type": "code",
      "execution_count": 70,
      "metadata": {
        "id": "Pv4vmg9zo39p",
        "trusted": true
      },
      "outputs": [],
      "source": [
        "movies_df_columns = [\"id\", \"title\", \"genres\", \"release_date\", \"overview\", \"production_countries\", \"spoken_languages\", \"budget\", \"revenue\"]\n",
        "ratings_df_columns = [\"movieId\", \"rating\", \"timestamp\"]\n",
        "credits_df_columns = [\"id\", \"cast\"]"
      ]
    },
    {
      "cell_type": "code",
      "execution_count": 71,
      "metadata": {
        "id": "xUIn0zQvo39p",
        "trusted": true
      },
      "outputs": [],
      "source": [
        "# Discard unuseful columns\n",
        "movies_df_cleaned = movies_df.dropna(subset=movies_df_columns)[movies_df_columns].copy()\n",
        "ratings_df_cleaned = ratings_df.dropna(subset=ratings_df_columns)[ratings_df_columns].copy()\n",
        "credits_df_cleaned = credits_df.dropna(subset=credits_df_columns)[credits_df_columns].copy()"
      ]
    },
    {
      "cell_type": "code",
      "execution_count": 72,
      "metadata": {
        "id": "5uXzf87bo39p",
        "trusted": true
      },
      "outputs": [],
      "source": [
        "# Dates Formatting\n",
        "movies_df_cleaned['release_date'] = pd.to_datetime(movies_df_cleaned['release_date'], format='%Y-%m-%d', errors='coerce')\n",
        "ratings_df_cleaned['timestamp'] = pd.to_datetime(ratings_df_cleaned['timestamp'], unit='s')"
      ]
    },
    {
      "cell_type": "code",
      "execution_count": 73,
      "metadata": {
        "id": "H3XyRDkco39p",
        "trusted": true
      },
      "outputs": [],
      "source": [
        "# Numbers Formatting\n",
        "movies_df_cleaned['budget'] = pd.to_numeric(movies_df_cleaned['budget'], errors='coerce')\n",
        "movies_df_cleaned['revenue'] = pd.to_numeric(movies_df_cleaned['revenue'], errors='coerce')"
      ]
    },
    {
      "cell_type": "code",
      "execution_count": 74,
      "metadata": {
        "id": "X3MH_Yygo39p",
        "trusted": true
      },
      "outputs": [],
      "source": [
        "# Replace json fields with string arrays\n",
        "def dictionary_to_list(dictionary_str):\n",
        "    try:\n",
        "        dictionary_list = ast.literal_eval(dictionary_str)\n",
        "        return [data['name'] for data in dictionary_list]\n",
        "    except (ValueError, SyntaxError):\n",
        "        return []\n",
        "\n",
        "movies_df_cleaned['genres'] = movies_df_cleaned['genres'].apply(dictionary_to_list)\n",
        "movies_df_cleaned['production_countries'] = movies_df_cleaned['production_countries'].apply(dictionary_to_list)\n",
        "movies_df_cleaned['spoken_languages'] = movies_df_cleaned['spoken_languages'].apply(dictionary_to_list)\n",
        "credits_df_cleaned['cast'] = credits_df_cleaned['cast'].apply(dictionary_to_list)"
      ]
    },
    {
      "cell_type": "code",
      "execution_count": 75,
      "metadata": {
        "id": "gxl06ZSZo39p",
        "trusted": true
      },
      "outputs": [],
      "source": [
        "movies_df_cleaned['genres'] = movies_df_cleaned['genres'].astype(str)\n",
        "movies_df_cleaned['production_countries'] = movies_df_cleaned['production_countries'].astype(str)\n",
        "movies_df_cleaned['spoken_languages'] = movies_df_cleaned['spoken_languages'].astype(str)"
      ]
    },
    {
      "cell_type": "code",
      "execution_count": 76,
      "metadata": {
        "id": "EJf2GlzXo39p",
        "trusted": true
      },
      "outputs": [
        {
          "data": {
            "text/html": [
              "<div>\n",
              "<style scoped>\n",
              "    .dataframe tbody tr th:only-of-type {\n",
              "        vertical-align: middle;\n",
              "    }\n",
              "\n",
              "    .dataframe tbody tr th {\n",
              "        vertical-align: top;\n",
              "    }\n",
              "\n",
              "    .dataframe thead th {\n",
              "        text-align: right;\n",
              "    }\n",
              "</style>\n",
              "<table border=\"1\" class=\"dataframe\">\n",
              "  <thead>\n",
              "    <tr style=\"text-align: right;\">\n",
              "      <th></th>\n",
              "      <th>id</th>\n",
              "      <th>title</th>\n",
              "      <th>genres</th>\n",
              "      <th>release_date</th>\n",
              "      <th>overview</th>\n",
              "      <th>production_countries</th>\n",
              "      <th>spoken_languages</th>\n",
              "      <th>budget</th>\n",
              "      <th>revenue</th>\n",
              "    </tr>\n",
              "  </thead>\n",
              "  <tbody>\n",
              "    <tr>\n",
              "      <th>0</th>\n",
              "      <td>862</td>\n",
              "      <td>Toy Story</td>\n",
              "      <td>['Animation', 'Comedy', 'Family']</td>\n",
              "      <td>1995-10-30</td>\n",
              "      <td>Led by Woody, Andy's toys live happily in his room until Andy's birthday brings Buzz Lightyear o...</td>\n",
              "      <td>['United States of America']</td>\n",
              "      <td>['English']</td>\n",
              "      <td>30000000</td>\n",
              "      <td>373554033.0</td>\n",
              "    </tr>\n",
              "    <tr>\n",
              "      <th>1</th>\n",
              "      <td>8844</td>\n",
              "      <td>Jumanji</td>\n",
              "      <td>['Adventure', 'Fantasy', 'Family']</td>\n",
              "      <td>1995-12-15</td>\n",
              "      <td>When siblings Judy and Peter discover an enchanted board game that opens the door to a magical w...</td>\n",
              "      <td>['United States of America']</td>\n",
              "      <td>['English', 'Français']</td>\n",
              "      <td>65000000</td>\n",
              "      <td>262797249.0</td>\n",
              "    </tr>\n",
              "    <tr>\n",
              "      <th>2</th>\n",
              "      <td>15602</td>\n",
              "      <td>Grumpier Old Men</td>\n",
              "      <td>['Romance', 'Comedy']</td>\n",
              "      <td>1995-12-22</td>\n",
              "      <td>A family wedding reignites the ancient feud between next-door neighbors and fishing buddies John...</td>\n",
              "      <td>['United States of America']</td>\n",
              "      <td>['English']</td>\n",
              "      <td>0</td>\n",
              "      <td>0.0</td>\n",
              "    </tr>\n",
              "    <tr>\n",
              "      <th>3</th>\n",
              "      <td>31357</td>\n",
              "      <td>Waiting to Exhale</td>\n",
              "      <td>['Comedy', 'Drama', 'Romance']</td>\n",
              "      <td>1995-12-22</td>\n",
              "      <td>Cheated on, mistreated and stepped on, the women are holding their breath, waiting for the elusi...</td>\n",
              "      <td>['United States of America']</td>\n",
              "      <td>['English']</td>\n",
              "      <td>16000000</td>\n",
              "      <td>81452156.0</td>\n",
              "    </tr>\n",
              "    <tr>\n",
              "      <th>4</th>\n",
              "      <td>11862</td>\n",
              "      <td>Father of the Bride Part II</td>\n",
              "      <td>['Comedy']</td>\n",
              "      <td>1995-02-10</td>\n",
              "      <td>Just when George Banks has recovered from his daughter's wedding, he receives the news that she'...</td>\n",
              "      <td>['United States of America']</td>\n",
              "      <td>['English']</td>\n",
              "      <td>0</td>\n",
              "      <td>76578911.0</td>\n",
              "    </tr>\n",
              "  </tbody>\n",
              "</table>\n",
              "</div>"
            ],
            "text/plain": [
              "      id                        title                              genres  \\\n",
              "0    862                    Toy Story   ['Animation', 'Comedy', 'Family']   \n",
              "1   8844                      Jumanji  ['Adventure', 'Fantasy', 'Family']   \n",
              "2  15602             Grumpier Old Men               ['Romance', 'Comedy']   \n",
              "3  31357            Waiting to Exhale      ['Comedy', 'Drama', 'Romance']   \n",
              "4  11862  Father of the Bride Part II                          ['Comedy']   \n",
              "\n",
              "  release_date  \\\n",
              "0   1995-10-30   \n",
              "1   1995-12-15   \n",
              "2   1995-12-22   \n",
              "3   1995-12-22   \n",
              "4   1995-02-10   \n",
              "\n",
              "                                                                                              overview  \\\n",
              "0  Led by Woody, Andy's toys live happily in his room until Andy's birthday brings Buzz Lightyear o...   \n",
              "1  When siblings Judy and Peter discover an enchanted board game that opens the door to a magical w...   \n",
              "2  A family wedding reignites the ancient feud between next-door neighbors and fishing buddies John...   \n",
              "3  Cheated on, mistreated and stepped on, the women are holding their breath, waiting for the elusi...   \n",
              "4  Just when George Banks has recovered from his daughter's wedding, he receives the news that she'...   \n",
              "\n",
              "           production_countries         spoken_languages    budget  \\\n",
              "0  ['United States of America']              ['English']  30000000   \n",
              "1  ['United States of America']  ['English', 'Français']  65000000   \n",
              "2  ['United States of America']              ['English']         0   \n",
              "3  ['United States of America']              ['English']  16000000   \n",
              "4  ['United States of America']              ['English']         0   \n",
              "\n",
              "       revenue  \n",
              "0  373554033.0  \n",
              "1  262797249.0  \n",
              "2          0.0  \n",
              "3   81452156.0  \n",
              "4   76578911.0  "
            ]
          },
          "execution_count": 76,
          "metadata": {},
          "output_type": "execute_result"
        }
      ],
      "source": [
        "movies_df_cleaned.head()"
      ]
    },
    {
      "cell_type": "code",
      "execution_count": 77,
      "metadata": {
        "id": "_4lZOkMdo39p",
        "trusted": true
      },
      "outputs": [
        {
          "data": {
            "text/html": [
              "<div>\n",
              "<style scoped>\n",
              "    .dataframe tbody tr th:only-of-type {\n",
              "        vertical-align: middle;\n",
              "    }\n",
              "\n",
              "    .dataframe tbody tr th {\n",
              "        vertical-align: top;\n",
              "    }\n",
              "\n",
              "    .dataframe thead th {\n",
              "        text-align: right;\n",
              "    }\n",
              "</style>\n",
              "<table border=\"1\" class=\"dataframe\">\n",
              "  <thead>\n",
              "    <tr style=\"text-align: right;\">\n",
              "      <th></th>\n",
              "      <th>movieId</th>\n",
              "      <th>rating</th>\n",
              "      <th>timestamp</th>\n",
              "    </tr>\n",
              "  </thead>\n",
              "  <tbody>\n",
              "    <tr>\n",
              "      <th>0</th>\n",
              "      <td>31</td>\n",
              "      <td>2.5</td>\n",
              "      <td>2009-12-14 02:52:24</td>\n",
              "    </tr>\n",
              "    <tr>\n",
              "      <th>1</th>\n",
              "      <td>1029</td>\n",
              "      <td>3.0</td>\n",
              "      <td>2009-12-14 02:52:59</td>\n",
              "    </tr>\n",
              "    <tr>\n",
              "      <th>2</th>\n",
              "      <td>1061</td>\n",
              "      <td>3.0</td>\n",
              "      <td>2009-12-14 02:53:02</td>\n",
              "    </tr>\n",
              "    <tr>\n",
              "      <th>3</th>\n",
              "      <td>1129</td>\n",
              "      <td>2.0</td>\n",
              "      <td>2009-12-14 02:53:05</td>\n",
              "    </tr>\n",
              "    <tr>\n",
              "      <th>4</th>\n",
              "      <td>1172</td>\n",
              "      <td>4.0</td>\n",
              "      <td>2009-12-14 02:53:25</td>\n",
              "    </tr>\n",
              "  </tbody>\n",
              "</table>\n",
              "</div>"
            ],
            "text/plain": [
              "   movieId  rating           timestamp\n",
              "0       31     2.5 2009-12-14 02:52:24\n",
              "1     1029     3.0 2009-12-14 02:52:59\n",
              "2     1061     3.0 2009-12-14 02:53:02\n",
              "3     1129     2.0 2009-12-14 02:53:05\n",
              "4     1172     4.0 2009-12-14 02:53:25"
            ]
          },
          "execution_count": 77,
          "metadata": {},
          "output_type": "execute_result"
        }
      ],
      "source": [
        "ratings_df_cleaned.head()"
      ]
    },
    {
      "cell_type": "code",
      "execution_count": 78,
      "metadata": {
        "id": "vUYeebYuo39p",
        "trusted": true
      },
      "outputs": [
        {
          "data": {
            "text/html": [
              "<div>\n",
              "<style scoped>\n",
              "    .dataframe tbody tr th:only-of-type {\n",
              "        vertical-align: middle;\n",
              "    }\n",
              "\n",
              "    .dataframe tbody tr th {\n",
              "        vertical-align: top;\n",
              "    }\n",
              "\n",
              "    .dataframe thead th {\n",
              "        text-align: right;\n",
              "    }\n",
              "</style>\n",
              "<table border=\"1\" class=\"dataframe\">\n",
              "  <thead>\n",
              "    <tr style=\"text-align: right;\">\n",
              "      <th></th>\n",
              "      <th>id</th>\n",
              "      <th>cast</th>\n",
              "    </tr>\n",
              "  </thead>\n",
              "  <tbody>\n",
              "    <tr>\n",
              "      <th>0</th>\n",
              "      <td>862</td>\n",
              "      <td>[Tom Hanks, Tim Allen, Don Rickles, Jim Varney, Wallace Shawn, John Ratzenberger, Annie Potts, J...</td>\n",
              "    </tr>\n",
              "    <tr>\n",
              "      <th>1</th>\n",
              "      <td>8844</td>\n",
              "      <td>[Robin Williams, Jonathan Hyde, Kirsten Dunst, Bradley Pierce, Bonnie Hunt, Bebe Neuwirth, David...</td>\n",
              "    </tr>\n",
              "    <tr>\n",
              "      <th>2</th>\n",
              "      <td>15602</td>\n",
              "      <td>[Walter Matthau, Jack Lemmon, Ann-Margret, Sophia Loren, Daryl Hannah, Burgess Meredith, Kevin P...</td>\n",
              "    </tr>\n",
              "    <tr>\n",
              "      <th>3</th>\n",
              "      <td>31357</td>\n",
              "      <td>[Whitney Houston, Angela Bassett, Loretta Devine, Lela Rochon, Gregory Hines, Dennis Haysbert, M...</td>\n",
              "    </tr>\n",
              "    <tr>\n",
              "      <th>4</th>\n",
              "      <td>11862</td>\n",
              "      <td>[Steve Martin, Diane Keaton, Martin Short, Kimberly Williams-Paisley, George Newbern, Kieran Cul...</td>\n",
              "    </tr>\n",
              "  </tbody>\n",
              "</table>\n",
              "</div>"
            ],
            "text/plain": [
              "      id  \\\n",
              "0    862   \n",
              "1   8844   \n",
              "2  15602   \n",
              "3  31357   \n",
              "4  11862   \n",
              "\n",
              "                                                                                                  cast  \n",
              "0  [Tom Hanks, Tim Allen, Don Rickles, Jim Varney, Wallace Shawn, John Ratzenberger, Annie Potts, J...  \n",
              "1  [Robin Williams, Jonathan Hyde, Kirsten Dunst, Bradley Pierce, Bonnie Hunt, Bebe Neuwirth, David...  \n",
              "2  [Walter Matthau, Jack Lemmon, Ann-Margret, Sophia Loren, Daryl Hannah, Burgess Meredith, Kevin P...  \n",
              "3  [Whitney Houston, Angela Bassett, Loretta Devine, Lela Rochon, Gregory Hines, Dennis Haysbert, M...  \n",
              "4  [Steve Martin, Diane Keaton, Martin Short, Kimberly Williams-Paisley, George Newbern, Kieran Cul...  "
            ]
          },
          "execution_count": 78,
          "metadata": {},
          "output_type": "execute_result"
        }
      ],
      "source": [
        "credits_df_cleaned.head()"
      ]
    },
    {
      "cell_type": "code",
      "execution_count": 79,
      "metadata": {
        "id": "Ga0xsF5so39p",
        "trusted": true
      },
      "outputs": [
        {
          "data": {
            "text/plain": [
              "id                              object\n",
              "title                           object\n",
              "genres                          object\n",
              "release_date            datetime64[ns]\n",
              "overview                        object\n",
              "production_countries            object\n",
              "spoken_languages                object\n",
              "budget                           int64\n",
              "revenue                        float64\n",
              "dtype: object"
            ]
          },
          "execution_count": 79,
          "metadata": {},
          "output_type": "execute_result"
        }
      ],
      "source": [
        "movies_df_cleaned.dtypes"
      ]
    },
    {
      "cell_type": "code",
      "execution_count": 80,
      "metadata": {
        "id": "yKXZivN4o39p",
        "trusted": true
      },
      "outputs": [
        {
          "data": {
            "text/plain": [
              "movieId               int64\n",
              "rating              float64\n",
              "timestamp    datetime64[ns]\n",
              "dtype: object"
            ]
          },
          "execution_count": 80,
          "metadata": {},
          "output_type": "execute_result"
        }
      ],
      "source": [
        "ratings_df_cleaned.dtypes"
      ]
    },
    {
      "cell_type": "code",
      "execution_count": 81,
      "metadata": {
        "id": "bFFy3-4Ao39p",
        "trusted": true
      },
      "outputs": [
        {
          "data": {
            "text/plain": [
              "id       int64\n",
              "cast    object\n",
              "dtype: object"
            ]
          },
          "execution_count": 81,
          "metadata": {},
          "output_type": "execute_result"
        }
      ],
      "source": [
        "credits_df_cleaned.dtypes"
      ]
    },
    {
      "cell_type": "markdown",
      "metadata": {
        "id": "5RhJm1P-o39q"
      },
      "source": [
        "# Queries a Resolver"
      ]
    },
    {
      "cell_type": "markdown",
      "metadata": {
        "id": "OlgJKyZZo39q"
      },
      "source": [
        "- Q1: Peliculas y sus géneros de los años 2000 con producción Argentina y Española.\n",
        "- Q2: Top 5 de países que más dinero han invertido en producciones sin colaborar con otros países.\n",
        "- Q3: Películas de Producción Argentina estrenadas a partir del 2000, con mayor y con menor promedio de rating.\n",
        "- Q4: Top 10 de actores con mayor participación en películas de producción Argentina con\n",
        "fecha de estreno posterior al 2000\n",
        "- Q5: Average de la tasa ingreso/presupuesto de peliculas con overview de sentimiento positivo vs. sentimiento negativo, para películas de habla inglesa con producción americana, estrenadas a partir del año 2000"
      ]
    },
    {
      "cell_type": "markdown",
      "metadata": {
        "id": "H6qpTw4fo39q"
      },
      "source": [
        "### Q1:  Peliculas y sus géneros de los años 00' con producción Argentina y Española Q2:"
      ]
    },
    {
      "cell_type": "code",
      "execution_count": 82,
      "metadata": {
        "id": "RhNzpUqYo39q",
        "trusted": true
      },
      "outputs": [],
      "source": [
        "movies_argentina_españa_00s_df = movies_df_cleaned[\n",
        "    (movies_df_cleaned['production_countries'].str.contains('Argentina', case=False, na=False)) &\n",
        "    (movies_df_cleaned['production_countries'].str.contains('Spain', case=False, na=False)) &\n",
        "    (movies_df_cleaned['release_date'].dt.year >= 2000) &\n",
        "    (movies_df_cleaned['release_date'].dt.year < 2010)\n",
        "]"
      ]
    },
    {
      "cell_type": "code",
      "execution_count": 83,
      "metadata": {
        "id": "1HElLUr2o39q",
        "trusted": true
      },
      "outputs": [
        {
          "data": {
            "text/plain": [
              "(24, 9)"
            ]
          },
          "execution_count": 83,
          "metadata": {},
          "output_type": "execute_result"
        }
      ],
      "source": [
        "movies_argentina_españa_00s_df.shape\n"
      ]
    },
    {
      "cell_type": "code",
      "execution_count": 84,
      "metadata": {
        "id": "3k96XDlqo39q",
        "trusted": true
      },
      "outputs": [
        {
          "data": {
            "text/html": [
              "<div>\n",
              "<style scoped>\n",
              "    .dataframe tbody tr th:only-of-type {\n",
              "        vertical-align: middle;\n",
              "    }\n",
              "\n",
              "    .dataframe tbody tr th {\n",
              "        vertical-align: top;\n",
              "    }\n",
              "\n",
              "    .dataframe thead th {\n",
              "        text-align: right;\n",
              "    }\n",
              "</style>\n",
              "<table border=\"1\" class=\"dataframe\">\n",
              "  <thead>\n",
              "    <tr style=\"text-align: right;\">\n",
              "      <th></th>\n",
              "      <th>title</th>\n",
              "      <th>genres</th>\n",
              "    </tr>\n",
              "  </thead>\n",
              "  <tbody>\n",
              "    <tr>\n",
              "      <th>4695</th>\n",
              "      <td>La Cienaga</td>\n",
              "      <td>['Comedy', 'Drama']</td>\n",
              "    </tr>\n",
              "    <tr>\n",
              "      <th>4739</th>\n",
              "      <td>Burnt Money</td>\n",
              "      <td>['Crime']</td>\n",
              "    </tr>\n",
              "    <tr>\n",
              "      <th>7970</th>\n",
              "      <td>The City of No Limits</td>\n",
              "      <td>['Thriller', 'Drama']</td>\n",
              "    </tr>\n",
              "    <tr>\n",
              "      <th>9385</th>\n",
              "      <td>Nicotina</td>\n",
              "      <td>['Drama', 'Action', 'Comedy', 'Thriller']</td>\n",
              "    </tr>\n",
              "    <tr>\n",
              "      <th>9437</th>\n",
              "      <td>Lost Embrace</td>\n",
              "      <td>['Drama', 'Foreign']</td>\n",
              "    </tr>\n",
              "    <tr>\n",
              "      <th>9953</th>\n",
              "      <td>Whisky</td>\n",
              "      <td>['Comedy', 'Drama', 'Foreign']</td>\n",
              "    </tr>\n",
              "    <tr>\n",
              "      <th>10325</th>\n",
              "      <td>The Holy Girl</td>\n",
              "      <td>['Drama', 'Foreign']</td>\n",
              "    </tr>\n",
              "    <tr>\n",
              "      <th>10638</th>\n",
              "      <td>The Aura</td>\n",
              "      <td>['Crime', 'Drama', 'Thriller']</td>\n",
              "    </tr>\n",
              "    <tr>\n",
              "      <th>10739</th>\n",
              "      <td>Bombón: The Dog</td>\n",
              "      <td>['Drama']</td>\n",
              "    </tr>\n",
              "    <tr>\n",
              "      <th>11504</th>\n",
              "      <td>Rolling Family</td>\n",
              "      <td>['Drama', 'Comedy']</td>\n",
              "    </tr>\n",
              "    <tr>\n",
              "      <th>12432</th>\n",
              "      <td>The Method</td>\n",
              "      <td>['Drama', 'Thriller']</td>\n",
              "    </tr>\n",
              "    <tr>\n",
              "      <th>13088</th>\n",
              "      <td>Every Stewardess Goes to Heaven</td>\n",
              "      <td>['Drama', 'Romance', 'Foreign']</td>\n",
              "    </tr>\n",
              "    <tr>\n",
              "      <th>14047</th>\n",
              "      <td>Tetro</td>\n",
              "      <td>['Drama', 'Mystery']</td>\n",
              "    </tr>\n",
              "    <tr>\n",
              "      <th>14115</th>\n",
              "      <td>The Secret in Their Eyes</td>\n",
              "      <td>['Crime', 'Drama', 'Mystery', 'Romance']</td>\n",
              "    </tr>\n",
              "    <tr>\n",
              "      <th>14666</th>\n",
              "      <td>Liverpool</td>\n",
              "      <td>['Drama']</td>\n",
              "    </tr>\n",
              "    <tr>\n",
              "      <th>14828</th>\n",
              "      <td>The Headless Woman</td>\n",
              "      <td>['Drama', 'Mystery', 'Thriller']</td>\n",
              "    </tr>\n",
              "    <tr>\n",
              "      <th>16271</th>\n",
              "      <td>The Last Summer of La Boyita</td>\n",
              "      <td>['Drama']</td>\n",
              "    </tr>\n",
              "    <tr>\n",
              "      <th>17760</th>\n",
              "      <td>The Appeared</td>\n",
              "      <td>['Horror', 'Thriller', 'Mystery']</td>\n",
              "    </tr>\n",
              "    <tr>\n",
              "      <th>18993</th>\n",
              "      <td>The Fish Child</td>\n",
              "      <td>['Drama', 'Thriller', 'Romance', 'Foreign']</td>\n",
              "    </tr>\n",
              "    <tr>\n",
              "      <th>24600</th>\n",
              "      <td>Cleopatra</td>\n",
              "      <td>['Drama', 'Comedy', 'Foreign']</td>\n",
              "    </tr>\n",
              "    <tr>\n",
              "      <th>26739</th>\n",
              "      <td>Roma</td>\n",
              "      <td>['Drama', 'Foreign']</td>\n",
              "    </tr>\n",
              "    <tr>\n",
              "      <th>32396</th>\n",
              "      <td>Conversations with Mother</td>\n",
              "      <td>['Comedy', 'Drama', 'Foreign']</td>\n",
              "    </tr>\n",
              "    <tr>\n",
              "      <th>36026</th>\n",
              "      <td>The Education of Fairies</td>\n",
              "      <td>['Drama']</td>\n",
              "    </tr>\n",
              "    <tr>\n",
              "      <th>39393</th>\n",
              "      <td>The Good Life</td>\n",
              "      <td>['Drama']</td>\n",
              "    </tr>\n",
              "  </tbody>\n",
              "</table>\n",
              "</div>"
            ],
            "text/plain": [
              "                                 title  \\\n",
              "4695                        La Cienaga   \n",
              "4739                       Burnt Money   \n",
              "7970             The City of No Limits   \n",
              "9385                          Nicotina   \n",
              "9437                      Lost Embrace   \n",
              "9953                            Whisky   \n",
              "10325                    The Holy Girl   \n",
              "10638                         The Aura   \n",
              "10739                  Bombón: The Dog   \n",
              "11504                   Rolling Family   \n",
              "12432                       The Method   \n",
              "13088  Every Stewardess Goes to Heaven   \n",
              "14047                            Tetro   \n",
              "14115         The Secret in Their Eyes   \n",
              "14666                        Liverpool   \n",
              "14828               The Headless Woman   \n",
              "16271     The Last Summer of La Boyita   \n",
              "17760                     The Appeared   \n",
              "18993                   The Fish Child   \n",
              "24600                        Cleopatra   \n",
              "26739                             Roma   \n",
              "32396        Conversations with Mother   \n",
              "36026         The Education of Fairies   \n",
              "39393                    The Good Life   \n",
              "\n",
              "                                            genres  \n",
              "4695                           ['Comedy', 'Drama']  \n",
              "4739                                     ['Crime']  \n",
              "7970                         ['Thriller', 'Drama']  \n",
              "9385     ['Drama', 'Action', 'Comedy', 'Thriller']  \n",
              "9437                          ['Drama', 'Foreign']  \n",
              "9953                ['Comedy', 'Drama', 'Foreign']  \n",
              "10325                         ['Drama', 'Foreign']  \n",
              "10638               ['Crime', 'Drama', 'Thriller']  \n",
              "10739                                    ['Drama']  \n",
              "11504                          ['Drama', 'Comedy']  \n",
              "12432                        ['Drama', 'Thriller']  \n",
              "13088              ['Drama', 'Romance', 'Foreign']  \n",
              "14047                         ['Drama', 'Mystery']  \n",
              "14115     ['Crime', 'Drama', 'Mystery', 'Romance']  \n",
              "14666                                    ['Drama']  \n",
              "14828             ['Drama', 'Mystery', 'Thriller']  \n",
              "16271                                    ['Drama']  \n",
              "17760            ['Horror', 'Thriller', 'Mystery']  \n",
              "18993  ['Drama', 'Thriller', 'Romance', 'Foreign']  \n",
              "24600               ['Drama', 'Comedy', 'Foreign']  \n",
              "26739                         ['Drama', 'Foreign']  \n",
              "32396               ['Comedy', 'Drama', 'Foreign']  \n",
              "36026                                    ['Drama']  \n",
              "39393                                    ['Drama']  "
            ]
          },
          "execution_count": 84,
          "metadata": {},
          "output_type": "execute_result"
        }
      ],
      "source": [
        "movies_argentina_españa_00s_df[[\"title\", \"genres\"]]"
      ]
    },
    {
      "cell_type": "markdown",
      "metadata": {
        "id": "Z07UCgsao39q"
      },
      "source": [
        "### Q2: Top 5 de países que más dinero han invertido en producciones sin colaborar con otros países."
      ]
    },
    {
      "cell_type": "code",
      "execution_count": 85,
      "metadata": {
        "id": "tVUlY4lQo39q",
        "trusted": true
      },
      "outputs": [],
      "source": [
        "solo_country_df = movies_df_cleaned[movies_df_cleaned['production_countries'].apply(lambda x: len(eval(x)) == 1)]"
      ]
    },
    {
      "cell_type": "code",
      "execution_count": 86,
      "metadata": {
        "id": "TiFaZYiNo39q",
        "trusted": true
      },
      "outputs": [
        {
          "name": "stderr",
          "output_type": "stream",
          "text": [
            "/var/folders/73/87cl_fwd24z_3gj382d3c4mc0000gn/T/ipykernel_13145/2161155210.py:1: SettingWithCopyWarning: \n",
            "A value is trying to be set on a copy of a slice from a DataFrame.\n",
            "Try using .loc[row_indexer,col_indexer] = value instead\n",
            "\n",
            "See the caveats in the documentation: https://pandas.pydata.org/pandas-docs/stable/user_guide/indexing.html#returning-a-view-versus-a-copy\n",
            "  solo_country_df.loc[:, 'country'] = solo_country_df['production_countries'].apply(lambda x: eval(x)[0])\n"
          ]
        }
      ],
      "source": [
        "solo_country_df.loc[:, 'country'] = solo_country_df['production_countries'].apply(lambda x: eval(x)[0])"
      ]
    },
    {
      "cell_type": "code",
      "execution_count": 87,
      "metadata": {
        "id": "aO18NLNlo39q",
        "trusted": true
      },
      "outputs": [],
      "source": [
        "investment_by_country = solo_country_df.groupby('country')['budget'].sum().sort_values(ascending=False)"
      ]
    },
    {
      "cell_type": "code",
      "execution_count": 88,
      "metadata": {
        "id": "6Ct6hbE5o39v",
        "trusted": true
      },
      "outputs": [
        {
          "name": "stdout",
          "output_type": "stream",
          "text": [
            "country\n",
            "United States of America    120153886644\n",
            "France                        2256831838\n",
            "United Kingdom                1611604610\n",
            "India                         1169682797\n",
            "Japan                          832585873\n",
            "Name: budget, dtype: int64\n"
          ]
        }
      ],
      "source": [
        "top_5_countries = investment_by_country.head(5)\n",
        "\n",
        "print(top_5_countries)"
      ]
    },
    {
      "cell_type": "markdown",
      "metadata": {
        "id": "2R-kWn0co39v"
      },
      "source": [
        "### Q3: Películas de Producción Argentina estrenadas a partir del 2000, con mayor y con menor promedio de rating."
      ]
    },
    {
      "cell_type": "code",
      "execution_count": 89,
      "metadata": {
        "id": "7fSv1HRPo39v",
        "trusted": true
      },
      "outputs": [],
      "source": [
        "movies_argentina_post_2000_df = movies_df_cleaned[\n",
        "    (movies_df_cleaned['production_countries'].str.contains('Argentina', case=False, na=False)) &\n",
        "    (movies_df_cleaned['release_date'].dt.year >= 2000)\n",
        "]"
      ]
    },
    {
      "cell_type": "code",
      "execution_count": 90,
      "metadata": {
        "id": "9Gtuh9ego39v",
        "trusted": true
      },
      "outputs": [],
      "source": [
        "movies_argentina_post_2000_df = movies_argentina_post_2000_df.astype({'id': int})"
      ]
    },
    {
      "cell_type": "code",
      "execution_count": 91,
      "metadata": {
        "id": "PQJGyOgfo39v",
        "trusted": true
      },
      "outputs": [],
      "source": [
        "ranking_arg_post_2000_df = movies_argentina_post_2000_df[[\"id\", \"title\"]].merge(ratings_df_cleaned,\n",
        "                                                                                left_on=\"id\",\n",
        "                                                                                right_on=\"movieId\")\n",
        "mean_ranking_arg_post_2000_df = ranking_arg_post_2000_df.groupby([\"id\", \"title\"])['rating'].mean().reset_index()"
      ]
    },
    {
      "cell_type": "code",
      "execution_count": 92,
      "metadata": {
        "id": "o1Lanntbo39v",
        "trusted": true
      },
      "outputs": [
        {
          "data": {
            "text/plain": [
              "id                         125619\n",
              "title     The forbidden education\n",
              "rating                        4.0\n",
              "Name: 9, dtype: object"
            ]
          },
          "execution_count": 92,
          "metadata": {},
          "output_type": "execute_result"
        }
      ],
      "source": [
        "#Max\n",
        "mean_ranking_arg_post_2000_df.iloc[mean_ranking_arg_post_2000_df['rating'].idxmax()]"
      ]
    },
    {
      "cell_type": "code",
      "execution_count": 93,
      "metadata": {
        "id": "jTPjtV_fo39v",
        "trusted": true
      },
      "outputs": [
        {
          "data": {
            "text/plain": [
              "id               128598\n",
              "title     Left for Dead\n",
              "rating              1.0\n",
              "Name: 10, dtype: object"
            ]
          },
          "execution_count": 93,
          "metadata": {},
          "output_type": "execute_result"
        }
      ],
      "source": [
        "#Min\n",
        "mean_ranking_arg_post_2000_df.iloc[mean_ranking_arg_post_2000_df['rating'].idxmin()]"
      ]
    },
    {
      "cell_type": "markdown",
      "metadata": {
        "id": "XpjF1Q8Lo39v"
      },
      "source": [
        "### Q4: Top 10 de actores con mayor participación en películas de producción Argentina posterior al 2000"
      ]
    },
    {
      "cell_type": "code",
      "execution_count": 94,
      "metadata": {
        "id": "OrdFpY_yo39v",
        "trusted": true
      },
      "outputs": [
        {
          "data": {
            "text/html": [
              "<div>\n",
              "<style scoped>\n",
              "    .dataframe tbody tr th:only-of-type {\n",
              "        vertical-align: middle;\n",
              "    }\n",
              "\n",
              "    .dataframe tbody tr th {\n",
              "        vertical-align: top;\n",
              "    }\n",
              "\n",
              "    .dataframe thead th {\n",
              "        text-align: right;\n",
              "    }\n",
              "</style>\n",
              "<table border=\"1\" class=\"dataframe\">\n",
              "  <thead>\n",
              "    <tr style=\"text-align: right;\">\n",
              "      <th></th>\n",
              "      <th>name</th>\n",
              "      <th>count</th>\n",
              "    </tr>\n",
              "  </thead>\n",
              "  <tbody>\n",
              "    <tr>\n",
              "      <th>1010</th>\n",
              "      <td>Ricardo Darín</td>\n",
              "      <td>17</td>\n",
              "    </tr>\n",
              "    <tr>\n",
              "      <th>47</th>\n",
              "      <td>Alejandro Awada</td>\n",
              "      <td>7</td>\n",
              "    </tr>\n",
              "    <tr>\n",
              "      <th>489</th>\n",
              "      <td>Inés Efron</td>\n",
              "      <td>7</td>\n",
              "    </tr>\n",
              "    <tr>\n",
              "      <th>664</th>\n",
              "      <td>Leonardo Sbaraglia</td>\n",
              "      <td>7</td>\n",
              "    </tr>\n",
              "    <tr>\n",
              "      <th>1125</th>\n",
              "      <td>Valeria Bertuccelli</td>\n",
              "      <td>7</td>\n",
              "    </tr>\n",
              "    <tr>\n",
              "      <th>111</th>\n",
              "      <td>Arturo Goetz</td>\n",
              "      <td>6</td>\n",
              "    </tr>\n",
              "    <tr>\n",
              "      <th>285</th>\n",
              "      <td>Diego Peretti</td>\n",
              "      <td>6</td>\n",
              "    </tr>\n",
              "    <tr>\n",
              "      <th>948</th>\n",
              "      <td>Pablo Echarri</td>\n",
              "      <td>6</td>\n",
              "    </tr>\n",
              "    <tr>\n",
              "      <th>998</th>\n",
              "      <td>Rafael Spregelburd</td>\n",
              "      <td>6</td>\n",
              "    </tr>\n",
              "    <tr>\n",
              "      <th>1033</th>\n",
              "      <td>Rodrigo de la Serna</td>\n",
              "      <td>6</td>\n",
              "    </tr>\n",
              "  </tbody>\n",
              "</table>\n",
              "</div>"
            ],
            "text/plain": [
              "                     name  count\n",
              "1010        Ricardo Darín     17\n",
              "47        Alejandro Awada      7\n",
              "489            Inés Efron      7\n",
              "664    Leonardo Sbaraglia      7\n",
              "1125  Valeria Bertuccelli      7\n",
              "111          Arturo Goetz      6\n",
              "285         Diego Peretti      6\n",
              "948         Pablo Echarri      6\n",
              "998    Rafael Spregelburd      6\n",
              "1033  Rodrigo de la Serna      6"
            ]
          },
          "execution_count": 94,
          "metadata": {},
          "output_type": "execute_result"
        }
      ],
      "source": [
        "cast_arg_post_2000_df = movies_argentina_post_2000_df[[\"id\", \"title\"]].merge(credits_df_cleaned,\n",
        "                                                                                on=\"id\")\n",
        "cast_and_movie_arg_post_2000_df = cast_arg_post_2000_df.set_index(\"id\")[\"cast\"].apply(pd.Series).stack().reset_index(\"id\", name=\"name\")\n",
        "cast_per_movie_quantities = cast_and_movie_arg_post_2000_df.groupby([\"name\"]).count().reset_index().rename(columns={\"id\":\"count\"})\n",
        "cast_per_movie_quantities.nlargest(10, 'count')"
      ]
    },
    {
      "cell_type": "markdown",
      "metadata": {
        "id": "mOHyI-QUo39v"
      },
      "source": [
        "### Q5: Average de la tasa ingreso/presupuesto de peliculas con overview de sentimiento positivo vs. sentimiento negativo"
      ]
    },
    {
      "cell_type": "code",
      "execution_count": 95,
      "metadata": {
        "id": "kGJPkTCQo39v",
        "trusted": true
      },
      "outputs": [],
      "source": [
        "q5_input_df = movies_df_cleaned.copy()"
      ]
    },
    {
      "cell_type": "code",
      "execution_count": 96,
      "metadata": {
        "id": "qwzyO0CYo39v",
        "trusted": true
      },
      "outputs": [],
      "source": [
        "# Nos quedamos con rows válidas\n",
        "q5_input_df = q5_input_df.loc[q5_input_df['budget'] != 0]\n",
        "q5_input_df = q5_input_df.loc[q5_input_df['revenue'] != 0]"
      ]
    },
    {
      "cell_type": "code",
      "execution_count": 97,
      "metadata": {
        "id": "Q5voWgD8o39v",
        "trusted": true
      },
      "outputs": [
        {
          "data": {
            "text/plain": [
              "(5370, 9)"
            ]
          },
          "execution_count": 97,
          "metadata": {},
          "output_type": "execute_result"
        }
      ],
      "source": [
        "q5_input_df.shape"
      ]
    },
    {
      "cell_type": "code",
      "execution_count": 98,
      "metadata": {
        "id": "8NCDIFpdo39v",
        "trusted": true
      },
      "outputs": [
        {
          "name": "stderr",
          "output_type": "stream",
          "text": [
            "Device set to use mps:0\n"
          ]
        }
      ],
      "source": [
        "# Cargar modelo preentrenado para análisis de sentimiento\n",
        "sentiment_analyzer = pipeline('sentiment-analysis', model='distilbert-base-uncased-finetuned-sst-2-english')"
      ]
    },
    {
      "cell_type": "code",
      "execution_count": 99,
      "metadata": {
        "id": "_WjDMnQ8o39w",
        "trusted": true
      },
      "outputs": [
        {
          "name": "stdout",
          "output_type": "stream",
          "text": [
            "Execution time: 51.91 seconds\n"
          ]
        }
      ],
      "source": [
        "start_time = time.time()\n",
        "q5_input_df['sentiment'] = q5_input_df['overview'].fillna('').apply(lambda x: sentiment_analyzer(x, truncation=True)[0]['label'])\n",
        "elapsed_time = time.time() - start_time\n",
        "print(f\"Execution time: {elapsed_time:.2f} seconds\")"
      ]
    },
    {
      "cell_type": "code",
      "execution_count": 100,
      "metadata": {
        "id": "7FWKv9e_o39w",
        "trusted": true
      },
      "outputs": [],
      "source": [
        "q5_input_df[\"rate_revenue_budget\"] = q5_input_df[\"revenue\"] / q5_input_df[\"budget\"]"
      ]
    },
    {
      "cell_type": "code",
      "execution_count": 101,
      "metadata": {
        "id": "-tROA0Huo39w",
        "trusted": true
      },
      "outputs": [
        {
          "data": {
            "text/html": [
              "<div>\n",
              "<style scoped>\n",
              "    .dataframe tbody tr th:only-of-type {\n",
              "        vertical-align: middle;\n",
              "    }\n",
              "\n",
              "    .dataframe tbody tr th {\n",
              "        vertical-align: top;\n",
              "    }\n",
              "\n",
              "    .dataframe thead th {\n",
              "        text-align: right;\n",
              "    }\n",
              "</style>\n",
              "<table border=\"1\" class=\"dataframe\">\n",
              "  <thead>\n",
              "    <tr style=\"text-align: right;\">\n",
              "      <th></th>\n",
              "      <th>id</th>\n",
              "      <th>title</th>\n",
              "      <th>genres</th>\n",
              "      <th>release_date</th>\n",
              "      <th>overview</th>\n",
              "      <th>production_countries</th>\n",
              "      <th>spoken_languages</th>\n",
              "      <th>budget</th>\n",
              "      <th>revenue</th>\n",
              "      <th>sentiment</th>\n",
              "      <th>rate_revenue_budget</th>\n",
              "    </tr>\n",
              "  </thead>\n",
              "  <tbody>\n",
              "    <tr>\n",
              "      <th>899</th>\n",
              "      <td>705</td>\n",
              "      <td>All About Eve</td>\n",
              "      <td>['Drama']</td>\n",
              "      <td>1950-11-09</td>\n",
              "      <td>From the moment she glimpses her idol at the stage door, Eve Harrington is determined to take th...</td>\n",
              "      <td>['United States of America']</td>\n",
              "      <td>['English', 'Français']</td>\n",
              "      <td>1400000</td>\n",
              "      <td>63463.0</td>\n",
              "      <td>POSITIVE</td>\n",
              "      <td>0.045331</td>\n",
              "    </tr>\n",
              "    <tr>\n",
              "      <th>38718</th>\n",
              "      <td>290098</td>\n",
              "      <td>The Handmaiden</td>\n",
              "      <td>['Thriller', 'Drama', 'Romance']</td>\n",
              "      <td>2016-06-01</td>\n",
              "      <td>1930s Korea, in the period of Japanese occupation, a new girl (Sookee) is hired as a handmaiden ...</td>\n",
              "      <td>['South Korea']</td>\n",
              "      <td>['日本語', '한국어/조선말']</td>\n",
              "      <td>8575000</td>\n",
              "      <td>1983204.0</td>\n",
              "      <td>POSITIVE</td>\n",
              "      <td>0.231277</td>\n",
              "    </tr>\n",
              "    <tr>\n",
              "      <th>21099</th>\n",
              "      <td>96936</td>\n",
              "      <td>The Bling Ring</td>\n",
              "      <td>['Drama', 'Crime']</td>\n",
              "      <td>2013-06-12</td>\n",
              "      <td>Inspired by actual events, a group of fame-obsessed teenagers use the Internet to track celebrit...</td>\n",
              "      <td>['United States of America']</td>\n",
              "      <td>['English']</td>\n",
              "      <td>15000000</td>\n",
              "      <td>19145732.0</td>\n",
              "      <td>NEGATIVE</td>\n",
              "      <td>1.276382</td>\n",
              "    </tr>\n",
              "    <tr>\n",
              "      <th>14778</th>\n",
              "      <td>12201</td>\n",
              "      <td>Edge of Darkness</td>\n",
              "      <td>['Crime', 'Drama', 'Mystery', 'Thriller']</td>\n",
              "      <td>2010-01-29</td>\n",
              "      <td>As a seasoned homicide detective, Thomas Craven has seen the bleakest side of humanity. But noth...</td>\n",
              "      <td>['United Kingdom', 'United States of America']</td>\n",
              "      <td>['English']</td>\n",
              "      <td>80000000</td>\n",
              "      <td>74901339.0</td>\n",
              "      <td>NEGATIVE</td>\n",
              "      <td>0.936267</td>\n",
              "    </tr>\n",
              "    <tr>\n",
              "      <th>9611</th>\n",
              "      <td>11633</td>\n",
              "      <td>Appleseed</td>\n",
              "      <td>['Animation', 'Action', 'Science Fiction']</td>\n",
              "      <td>2004-04-17</td>\n",
              "      <td>In a utopian society created at the end of the third world war, a female warrior who has been pl...</td>\n",
              "      <td>['Japan']</td>\n",
              "      <td>['日本語']</td>\n",
              "      <td>10000000</td>\n",
              "      <td>1461989.0</td>\n",
              "      <td>NEGATIVE</td>\n",
              "      <td>0.146199</td>\n",
              "    </tr>\n",
              "    <tr>\n",
              "      <th>3958</th>\n",
              "      <td>96</td>\n",
              "      <td>Beverly Hills Cop II</td>\n",
              "      <td>['Action', 'Comedy', 'Crime']</td>\n",
              "      <td>1987-05-18</td>\n",
              "      <td>Detroit cop, Axel Foley heads for the land of sunshine and palm trees to find out who shot polic...</td>\n",
              "      <td>['United States of America']</td>\n",
              "      <td>['English']</td>\n",
              "      <td>20000000</td>\n",
              "      <td>299965036.0</td>\n",
              "      <td>POSITIVE</td>\n",
              "      <td>14.998252</td>\n",
              "    </tr>\n",
              "    <tr>\n",
              "      <th>18795</th>\n",
              "      <td>94329</td>\n",
              "      <td>The Raid</td>\n",
              "      <td>['Action', 'Thriller', 'Crime']</td>\n",
              "      <td>2011-09-08</td>\n",
              "      <td>Deep in the heart of Jakarta's slums lies an impenetrable safe house for the world's most danger...</td>\n",
              "      <td>['Indonesia', 'United States of America', 'France']</td>\n",
              "      <td>['Bahasa indonesia']</td>\n",
              "      <td>1100000</td>\n",
              "      <td>4105187.0</td>\n",
              "      <td>NEGATIVE</td>\n",
              "      <td>3.731988</td>\n",
              "    </tr>\n",
              "    <tr>\n",
              "      <th>6389</th>\n",
              "      <td>302</td>\n",
              "      <td>Swimming Pool</td>\n",
              "      <td>['Thriller', 'Crime']</td>\n",
              "      <td>2003-05-18</td>\n",
              "      <td>In the middle of this amusing thriller is a relationship between two different types of females,...</td>\n",
              "      <td>['France', 'United Kingdom']</td>\n",
              "      <td>['English', 'Français']</td>\n",
              "      <td>7800000</td>\n",
              "      <td>22441323.0</td>\n",
              "      <td>POSITIVE</td>\n",
              "      <td>2.877093</td>\n",
              "    </tr>\n",
              "    <tr>\n",
              "      <th>12177</th>\n",
              "      <td>5123</td>\n",
              "      <td>August Rush</td>\n",
              "      <td>['Family', 'Drama', 'Music']</td>\n",
              "      <td>2007-11-21</td>\n",
              "      <td>A drama with fairy tale elements, where an orphaned musical prodigy uses his gift as a clue to f...</td>\n",
              "      <td>['United States of America']</td>\n",
              "      <td>['English']</td>\n",
              "      <td>25000000</td>\n",
              "      <td>66122026.0</td>\n",
              "      <td>POSITIVE</td>\n",
              "      <td>2.644881</td>\n",
              "    </tr>\n",
              "    <tr>\n",
              "      <th>23962</th>\n",
              "      <td>249164</td>\n",
              "      <td>If I Stay</td>\n",
              "      <td>['Drama']</td>\n",
              "      <td>2014-08-21</td>\n",
              "      <td>Based on Gayle Forman's novel of the same name. \"If I Stay\" is the story of the gifted classical...</td>\n",
              "      <td>['United States of America']</td>\n",
              "      <td>['English']</td>\n",
              "      <td>11000000</td>\n",
              "      <td>78874843.0</td>\n",
              "      <td>POSITIVE</td>\n",
              "      <td>7.170440</td>\n",
              "    </tr>\n",
              "  </tbody>\n",
              "</table>\n",
              "</div>"
            ],
            "text/plain": [
              "           id                 title  \\\n",
              "899       705         All About Eve   \n",
              "38718  290098        The Handmaiden   \n",
              "21099   96936        The Bling Ring   \n",
              "14778   12201      Edge of Darkness   \n",
              "9611    11633             Appleseed   \n",
              "3958       96  Beverly Hills Cop II   \n",
              "18795   94329              The Raid   \n",
              "6389      302         Swimming Pool   \n",
              "12177    5123           August Rush   \n",
              "23962  249164             If I Stay   \n",
              "\n",
              "                                           genres release_date  \\\n",
              "899                                     ['Drama']   1950-11-09   \n",
              "38718            ['Thriller', 'Drama', 'Romance']   2016-06-01   \n",
              "21099                          ['Drama', 'Crime']   2013-06-12   \n",
              "14778   ['Crime', 'Drama', 'Mystery', 'Thriller']   2010-01-29   \n",
              "9611   ['Animation', 'Action', 'Science Fiction']   2004-04-17   \n",
              "3958                ['Action', 'Comedy', 'Crime']   1987-05-18   \n",
              "18795             ['Action', 'Thriller', 'Crime']   2011-09-08   \n",
              "6389                        ['Thriller', 'Crime']   2003-05-18   \n",
              "12177                ['Family', 'Drama', 'Music']   2007-11-21   \n",
              "23962                                   ['Drama']   2014-08-21   \n",
              "\n",
              "                                                                                                  overview  \\\n",
              "899    From the moment she glimpses her idol at the stage door, Eve Harrington is determined to take th...   \n",
              "38718  1930s Korea, in the period of Japanese occupation, a new girl (Sookee) is hired as a handmaiden ...   \n",
              "21099  Inspired by actual events, a group of fame-obsessed teenagers use the Internet to track celebrit...   \n",
              "14778  As a seasoned homicide detective, Thomas Craven has seen the bleakest side of humanity. But noth...   \n",
              "9611   In a utopian society created at the end of the third world war, a female warrior who has been pl...   \n",
              "3958   Detroit cop, Axel Foley heads for the land of sunshine and palm trees to find out who shot polic...   \n",
              "18795  Deep in the heart of Jakarta's slums lies an impenetrable safe house for the world's most danger...   \n",
              "6389   In the middle of this amusing thriller is a relationship between two different types of females,...   \n",
              "12177  A drama with fairy tale elements, where an orphaned musical prodigy uses his gift as a clue to f...   \n",
              "23962  Based on Gayle Forman's novel of the same name. \"If I Stay\" is the story of the gifted classical...   \n",
              "\n",
              "                                      production_countries  \\\n",
              "899                           ['United States of America']   \n",
              "38718                                      ['South Korea']   \n",
              "21099                         ['United States of America']   \n",
              "14778       ['United Kingdom', 'United States of America']   \n",
              "9611                                             ['Japan']   \n",
              "3958                          ['United States of America']   \n",
              "18795  ['Indonesia', 'United States of America', 'France']   \n",
              "6389                          ['France', 'United Kingdom']   \n",
              "12177                         ['United States of America']   \n",
              "23962                         ['United States of America']   \n",
              "\n",
              "              spoken_languages    budget      revenue sentiment  \\\n",
              "899    ['English', 'Français']   1400000      63463.0  POSITIVE   \n",
              "38718       ['日本語', '한국어/조선말']   8575000    1983204.0  POSITIVE   \n",
              "21099              ['English']  15000000   19145732.0  NEGATIVE   \n",
              "14778              ['English']  80000000   74901339.0  NEGATIVE   \n",
              "9611                   ['日本語']  10000000    1461989.0  NEGATIVE   \n",
              "3958               ['English']  20000000  299965036.0  POSITIVE   \n",
              "18795     ['Bahasa indonesia']   1100000    4105187.0  NEGATIVE   \n",
              "6389   ['English', 'Français']   7800000   22441323.0  POSITIVE   \n",
              "12177              ['English']  25000000   66122026.0  POSITIVE   \n",
              "23962              ['English']  11000000   78874843.0  POSITIVE   \n",
              "\n",
              "       rate_revenue_budget  \n",
              "899               0.045331  \n",
              "38718             0.231277  \n",
              "21099             1.276382  \n",
              "14778             0.936267  \n",
              "9611              0.146199  \n",
              "3958             14.998252  \n",
              "18795             3.731988  \n",
              "6389              2.877093  \n",
              "12177             2.644881  \n",
              "23962             7.170440  "
            ]
          },
          "execution_count": 101,
          "metadata": {},
          "output_type": "execute_result"
        }
      ],
      "source": [
        "q5_input_df.sample(10)"
      ]
    },
    {
      "cell_type": "code",
      "execution_count": 102,
      "metadata": {
        "id": "ZrcXdpImo39w",
        "trusted": true
      },
      "outputs": [
        {
          "name": "stdout",
          "output_type": "stream",
          "text": [
            "sentiment\n",
            "NEGATIVE    5453.397595\n",
            "POSITIVE    5668.650541\n",
            "Name: rate_revenue_budget, dtype: float64\n"
          ]
        }
      ],
      "source": [
        "average_rate_by_sentiment = q5_input_df.groupby(\"sentiment\")[\"rate_revenue_budget\"].mean()\n",
        "print(average_rate_by_sentiment)"
      ]
    }
  ],
  "metadata": {
    "colab": {
      "provenance": []
    },
    "kaggle": {
      "accelerator": "none",
      "dataSources": [
        {
          "datasetId": 3405,
          "sourceId": 6663,
          "sourceType": "datasetVersion"
        }
      ],
      "dockerImageVersionId": 30918,
      "isGpuEnabled": false,
      "isInternetEnabled": true,
      "language": "python",
      "sourceType": "notebook"
    },
    "kernelspec": {
      "display_name": ".venv",
      "language": "python",
      "name": "python3"
    },
    "language_info": {
      "codemirror_mode": {
        "name": "ipython",
        "version": 3
      },
      "file_extension": ".py",
      "mimetype": "text/x-python",
      "name": "python",
      "nbconvert_exporter": "python",
      "pygments_lexer": "ipython3",
      "version": "3.13.2"
    }
  },
  "nbformat": 4,
  "nbformat_minor": 0
}
